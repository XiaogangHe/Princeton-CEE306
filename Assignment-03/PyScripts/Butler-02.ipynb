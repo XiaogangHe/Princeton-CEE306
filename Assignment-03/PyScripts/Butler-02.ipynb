{
 "cells": [
  {
   "cell_type": "markdown",
   "metadata": {},
   "source": [
    "The `%matplotlib` magic command is used here to enable plotting in the current notebook. The inline backend will embed plots inside the notebook."
   ]
  },
  {
   "cell_type": "code",
   "execution_count": 1,
   "metadata": {
    "collapsed": true,
    "deletable": true,
    "editable": true
   },
   "outputs": [],
   "source": [
    "%matplotlib inline"
   ]
  },
  {
   "cell_type": "markdown",
   "metadata": {
    "deletable": true,
    "editable": true
   },
   "source": [
    "#### Import necessary modules"
   ]
  },
  {
   "cell_type": "code",
   "execution_count": 2,
   "metadata": {
    "collapsed": false,
    "deletable": true,
    "editable": true
   },
   "outputs": [],
   "source": [
    "import numpy as np\n",
    "import pandas as pd\n",
    "import xarray as xr\n",
    "import matplotlib.pyplot as plt\n",
    "import matplotlib.cm as cm"
   ]
  },
  {
   "cell_type": "markdown",
   "metadata": {
    "deletable": true,
    "editable": true
   },
   "source": [
    "#### Import the Butler roof netcdf file from the THREDDS server using the xarray package"
   ]
  },
  {
   "cell_type": "code",
   "execution_count": 3,
   "metadata": {
    "collapsed": false,
    "deletable": true,
    "editable": true
   },
   "outputs": [],
   "source": [
    "ds = xr.open_dataset('http://hydromet-thredds.princeton.edu:9000/thredds/dodsC/MonitoringStations/butler.nc')\n",
    "#ds = xr.open_dataset('../Data/butler_c8ee_04d0_8183.nc')"
   ]
  },
  {
   "cell_type": "markdown",
   "metadata": {
    "deletable": true,
    "editable": true
   },
   "source": [
    "#### List the variables in the netcdf file"
   ]
  },
  {
   "cell_type": "code",
   "execution_count": 4,
   "metadata": {
    "collapsed": false,
    "deletable": true,
    "editable": true
   },
   "outputs": [
    {
     "name": "stdout",
     "output_type": "stream",
     "text": [
      "<xarray.Dataset>\n",
      "Dimensions:                  (time: 52296)\n",
      "Coordinates:\n",
      "    lat                      float64 ...\n",
      "    lon                      float64 ...\n",
      "    station_name             |S64 ...\n",
      "  * time                     (time) datetime64[ns] 2011-03-01T18:00:00 ...\n",
      "Data variables:\n",
      "    AirTC_2_Avg              (time) float64 ...\n",
      "    AirTC_Avg                (time) float64 ...\n",
      "    Albedo_1_Avg             (time) float64 ...\n",
      "    Albedo_Avg               (time) float64 ...\n",
      "    CmCIR_Avg                (time) float64 ...\n",
      "    CmGIR_Avg                (time) float64 ...\n",
      "    DnTot_Avg                (time) float64 ...\n",
      "    IR01DnCo_Avg             (time) float64 ...\n",
      "    IR01Dn_Avg               (time) float64 ...\n",
      "    IR01UpCo_Avg             (time) float64 ...\n",
      "    IR01Up_Avg               (time) float64 ...\n",
      "    LPO2Dn_Avg               (time) float64 ...\n",
      "    Max_Run_Tot_mm_24hr_Max  (time) float64 ...\n",
      "    Max_Run_Tot_mm_2hr_Max   (time) float64 ...\n",
      "    NR01TC_Avg               (time) float64 ...\n",
      "    NR01TK_Avg               (time) float64 ...\n",
      "    NetRl_Avg                (time) float64 ...\n",
      "    NetRs_Avg                (time) float64 ...\n",
      "    NetTot_Avg               (time) float64 ...\n",
      "    PA_uS                    (time) float64 ...\n",
      "    PA_uS_2                  (time) float64 ...\n",
      "    PA_uS_3                  (time) float64 ...\n",
      "    PA_uS_4                  (time) float64 ...\n",
      "    RECORD                   (time) float64 ...\n",
      "    RH                       (time) float64 ...\n",
      "    RHCroof                  (time) float64 ...\n",
      "    RH_2                     (time) float64 ...\n",
      "    Rain_mm_2_Tot            (time) float64 ...\n",
      "    Rain_mm_3600_Tot         (time) float64 ...\n",
      "    Rain_mm_3_Tot            (time) float64 ...\n",
      "    Rain_mm_Tot              (time) float64 ...\n",
      "    SBT_C_2_Avg              (time) float64 ...\n",
      "    SBT_C_Avg                (time) float64 ...\n",
      "    SR01Dn_Avg               (time) float64 ...\n",
      "    SR01Up_Avg               (time) float64 ...\n",
      "    Storm_Type_mm_24hr       (time) |S64 ...\n",
      "    Storm_Type_mm_2hr        (time) |S64 ...\n",
      "    T108_C_Avg_11            (time) float64 ...\n",
      "    T108_C_Avg_12            (time) float64 ...\n",
      "    T108_C_Avg_13            (time) float64 ...\n",
      "    T108_C_Avg_14            (time) float64 ...\n",
      "    T108_C_Avg_15            (time) float64 ...\n",
      "    T108_C_Avg_16            (time) float64 ...\n",
      "    T108_roof10_Avg          (time) float64 ...\n",
      "    T108_roof1_Avg           (time) float64 ...\n",
      "    T108_roof2_Avg           (time) float64 ...\n",
      "    T108_roof3_Avg           (time) float64 ...\n",
      "    T108_roof4_Avg           (time) float64 ...\n",
      "    T108_roof5_Avg           (time) float64 ...\n",
      "    T108_roof6_Avg           (time) float64 ...\n",
      "    T108_roof7_Avg           (time) float64 ...\n",
      "    T108_roof8_Avg           (time) float64 ...\n",
      "    T108_roof9_Avg           (time) float64 ...\n",
      "    TCAV_1_Avg               (time) float64 ...\n",
      "    TCAV_2_Avg               (time) float64 ...\n",
      "    TCAV_3_Avg               (time) float64 ...\n",
      "    TCAV_4_Avg               (time) float64 ...\n",
      "    TCroof_Avg               (time) float64 ...\n",
      "    UpTot_Avg                (time) float64 ...\n",
      "    VW                       (time) float64 ...\n",
      "    VW_2                     (time) float64 ...\n",
      "    VW_3                     (time) float64 ...\n",
      "    VW_4                     (time) float64 ...\n",
      "    WindDir_deg              (time) float64 ...\n",
      "    WindDir_std_dev          (time) float64 ...\n",
      "    WindSpd_ms               (time) float64 ...\n",
      "    hfp01_10_Avg             (time) float64 ...\n",
      "    hfp01_11_Avg             (time) float64 ...\n",
      "    hfp01_12_Avg             (time) float64 ...\n",
      "    hfp01_1_Avg              (time) float64 ...\n",
      "    hfp01_2_Avg              (time) float64 ...\n",
      "    hfp01_3_Avg              (time) float64 ...\n",
      "    hfp01_4_Avg              (time) float64 ...\n",
      "    hfp01_5_Avg              (time) float64 ...\n",
      "    hfp01_6_Avg              (time) float64 ...\n",
      "    hfp01_7_Avg              (time) float64 ...\n",
      "    hfp01_8_Avg              (time) float64 ...\n",
      "    hfp01_9_Avg              (time) float64 ...\n",
      "Attributes:\n",
      "    description: Butler Green Roof Station\n",
      "    Conventions: CF-1.6\n",
      "    featureType: timeSeries\n",
      "    history: Created 2017-02-27 14:55:44.370674\n",
      "    _NCProperties: version=1|h5netcdfversion=0.3.0|hdf5libversion=1.8.17\n",
      "    DODS.strlen: 6\n",
      "    DODS.dimName: string6\n"
     ]
    }
   ],
   "source": [
    "print ds"
   ]
  },
  {
   "cell_type": "markdown",
   "metadata": {
    "deletable": true,
    "editable": true
   },
   "source": [
    "#### Define short names\n",
    "Note the switched labels for green and conventional roof measurements of radiation variables!!"
   ]
  },
  {
   "cell_type": "code",
   "execution_count": 5,
   "metadata": {
    "collapsed": false,
    "deletable": true,
    "editable": true
   },
   "outputs": [
    {
     "name": "stdout",
     "output_type": "stream",
     "text": [
      "{'AirTC_2_Avg': 'Air Temperature (green roof - degrees C)', 'IR01UpCo_Avg': 'DOWNWELLING longwave radiation !! (Watts/m2)', 'RH_2': 'Relative Humidity (green roof)', 'AirTC_Avg': 'Air Temperature (conventional roof - degrees C)', 'Albedo_Avg': ' Albedo (conventional roof)', 'Albedo_1_Avg': 'Albedo (green roof)', 'SR01Dn_Avg': 'UPWELLING solar radiation !! (Watts/m2)', 'CmGIR_Avg': 'Infrared Skin Temperature (green roof -  degrees C)', 'CmCIR_Avg': 'Infrared Skin Temperature (conventional roof - degrees C)', 'RH': 'Relative Humidity (conventional Roof)', 'IR01DnCo_Avg': 'UPWELLING longwave radiation !! (Watts/m2)', 'SR01Up_Avg': 'DOWNWELLING solar radiation !! (Watts/m2)'}\n"
     ]
    }
   ],
   "source": [
    "names = {'AirTC_Avg': 'Air Temperature (conventional roof - degrees C)',\n",
    "         'AirTC_2_Avg': 'Air Temperature (green roof - degrees C)',\n",
    "         'RH': 'Relative Humidity (conventional Roof)',\n",
    "         'RH_2': 'Relative Humidity (green roof)',\n",
    "         'CmCIR_Avg': 'Infrared Skin Temperature (conventional roof - degrees C)',\n",
    "         'CmGIR_Avg': 'Infrared Skin Temperature (green roof -  degrees C)',\n",
    "         'Albedo_Avg': ' Albedo (conventional roof)',\n",
    "         'Albedo_1_Avg': 'Albedo (green roof)',\n",
    "         'SR01Up_Avg': 'DOWNWELLING solar radiation !! (Watts/m2)',\n",
    "         'SR01Dn_Avg': 'UPWELLING solar radiation !! (Watts/m2)',\n",
    "         'IR01DnCo_Avg': 'UPWELLING longwave radiation !! (Watts/m2)',\n",
    "         'IR01UpCo_Avg': 'DOWNWELLING longwave radiation !! (Watts/m2)'}\n",
    "print names"
   ]
  },
  {
   "cell_type": "markdown",
   "metadata": {},
   "source": [
    "#### Create dataframe and summarize temperature and relative humidity"
   ]
  },
  {
   "cell_type": "code",
   "execution_count": 6,
   "metadata": {
    "collapsed": false,
    "deletable": true,
    "editable": true
   },
   "outputs": [
    {
     "data": {
      "text/html": [
       "<div>\n",
       "<table border=\"1\" class=\"dataframe\">\n",
       "  <thead>\n",
       "    <tr style=\"text-align: right;\">\n",
       "      <th></th>\n",
       "      <th>AirTC_Avg</th>\n",
       "      <th>AirTC_2_Avg</th>\n",
       "      <th>RH</th>\n",
       "      <th>RH_2</th>\n",
       "      <th>CmCIR_Avg</th>\n",
       "      <th>CmGIR_Avg</th>\n",
       "    </tr>\n",
       "  </thead>\n",
       "  <tbody>\n",
       "    <tr>\n",
       "      <th>count</th>\n",
       "      <td>52296.000000</td>\n",
       "      <td>52296.000000</td>\n",
       "      <td>52296.000000</td>\n",
       "      <td>52296.000000</td>\n",
       "      <td>52296.000000</td>\n",
       "      <td>52296.000000</td>\n",
       "    </tr>\n",
       "    <tr>\n",
       "      <th>mean</th>\n",
       "      <td>13.108815</td>\n",
       "      <td>13.208794</td>\n",
       "      <td>67.277943</td>\n",
       "      <td>64.320545</td>\n",
       "      <td>13.042238</td>\n",
       "      <td>13.280516</td>\n",
       "    </tr>\n",
       "    <tr>\n",
       "      <th>std</th>\n",
       "      <td>10.274974</td>\n",
       "      <td>10.264273</td>\n",
       "      <td>25.354186</td>\n",
       "      <td>20.924455</td>\n",
       "      <td>14.507288</td>\n",
       "      <td>11.881347</td>\n",
       "    </tr>\n",
       "    <tr>\n",
       "      <th>min</th>\n",
       "      <td>-17.900000</td>\n",
       "      <td>-17.930000</td>\n",
       "      <td>10.600000</td>\n",
       "      <td>10.700000</td>\n",
       "      <td>-25.260000</td>\n",
       "      <td>-22.150000</td>\n",
       "    </tr>\n",
       "    <tr>\n",
       "      <th>10%</th>\n",
       "      <td>-0.392000</td>\n",
       "      <td>-0.302000</td>\n",
       "      <td>36.720000</td>\n",
       "      <td>35.395000</td>\n",
       "      <td>-4.500000</td>\n",
       "      <td>-2.022000</td>\n",
       "    </tr>\n",
       "    <tr>\n",
       "      <th>25%</th>\n",
       "      <td>4.968750</td>\n",
       "      <td>5.105750</td>\n",
       "      <td>48.910000</td>\n",
       "      <td>47.690000</td>\n",
       "      <td>2.160000</td>\n",
       "      <td>4.117500</td>\n",
       "    </tr>\n",
       "    <tr>\n",
       "      <th>50%</th>\n",
       "      <td>13.500000</td>\n",
       "      <td>13.630000</td>\n",
       "      <td>65.540000</td>\n",
       "      <td>64.300000</td>\n",
       "      <td>12.120000</td>\n",
       "      <td>13.350000</td>\n",
       "    </tr>\n",
       "    <tr>\n",
       "      <th>75%</th>\n",
       "      <td>21.260000</td>\n",
       "      <td>21.340000</td>\n",
       "      <td>83.500000</td>\n",
       "      <td>82.600000</td>\n",
       "      <td>21.390000</td>\n",
       "      <td>21.420000</td>\n",
       "    </tr>\n",
       "    <tr>\n",
       "      <th>90%</th>\n",
       "      <td>26.460000</td>\n",
       "      <td>26.520000</td>\n",
       "      <td>95.100000</td>\n",
       "      <td>92.900000</td>\n",
       "      <td>33.330000</td>\n",
       "      <td>28.945000</td>\n",
       "    </tr>\n",
       "    <tr>\n",
       "      <th>max</th>\n",
       "      <td>40.770000</td>\n",
       "      <td>39.410000</td>\n",
       "      <td>160.700000</td>\n",
       "      <td>100.000000</td>\n",
       "      <td>59.620000</td>\n",
       "      <td>50.180000</td>\n",
       "    </tr>\n",
       "  </tbody>\n",
       "</table>\n",
       "</div>"
      ],
      "text/plain": [
       "          AirTC_Avg   AirTC_2_Avg            RH          RH_2     CmCIR_Avg  \\\n",
       "count  52296.000000  52296.000000  52296.000000  52296.000000  52296.000000   \n",
       "mean      13.108815     13.208794     67.277943     64.320545     13.042238   \n",
       "std       10.274974     10.264273     25.354186     20.924455     14.507288   \n",
       "min      -17.900000    -17.930000     10.600000     10.700000    -25.260000   \n",
       "10%       -0.392000     -0.302000     36.720000     35.395000     -4.500000   \n",
       "25%        4.968750      5.105750     48.910000     47.690000      2.160000   \n",
       "50%       13.500000     13.630000     65.540000     64.300000     12.120000   \n",
       "75%       21.260000     21.340000     83.500000     82.600000     21.390000   \n",
       "90%       26.460000     26.520000     95.100000     92.900000     33.330000   \n",
       "max       40.770000     39.410000    160.700000    100.000000     59.620000   \n",
       "\n",
       "          CmGIR_Avg  \n",
       "count  52296.000000  \n",
       "mean      13.280516  \n",
       "std       11.881347  \n",
       "min      -22.150000  \n",
       "10%       -2.022000  \n",
       "25%        4.117500  \n",
       "50%       13.350000  \n",
       "75%       21.420000  \n",
       "90%       28.945000  \n",
       "max       50.180000  "
      ]
     },
     "execution_count": 6,
     "metadata": {},
     "output_type": "execute_result"
    }
   ],
   "source": [
    "Temp_and_RH_ds = ds[['AirTC_Avg', 'AirTC_2_Avg', 'RH','RH_2', 'CmCIR_Avg', 'CmGIR_Avg']]\n",
    "newdf = Temp_and_RH_ds.to_dataframe().drop(['lon', 'lat', 'station_name'], axis=1)\n",
    "newdf.describe(percentiles=[.1, .25, .5, .75, .9])"
   ]
  },
  {
   "cell_type": "markdown",
   "metadata": {},
   "source": [
    "#### Create dataframe and summarize radiation"
   ]
  },
  {
   "cell_type": "code",
   "execution_count": 7,
   "metadata": {
    "collapsed": false,
    "deletable": true,
    "editable": true
   },
   "outputs": [
    {
     "data": {
      "text/html": [
       "<div>\n",
       "<table border=\"1\" class=\"dataframe\">\n",
       "  <thead>\n",
       "    <tr style=\"text-align: right;\">\n",
       "      <th></th>\n",
       "      <th>SR01Up_Avg</th>\n",
       "      <th>SR01Dn_Avg</th>\n",
       "      <th>IR01DnCo_Avg</th>\n",
       "      <th>IR01UpCo_Avg</th>\n",
       "      <th>Albedo_Avg</th>\n",
       "      <th>Albedo_1_Avg</th>\n",
       "    </tr>\n",
       "  </thead>\n",
       "  <tbody>\n",
       "    <tr>\n",
       "      <th>count</th>\n",
       "      <td>52296.000000</td>\n",
       "      <td>52296.000000</td>\n",
       "      <td>52296.000000</td>\n",
       "      <td>52296.000000</td>\n",
       "      <td>50778.000000</td>\n",
       "      <td>50768.000000</td>\n",
       "    </tr>\n",
       "    <tr>\n",
       "      <th>mean</th>\n",
       "      <td>170.660869</td>\n",
       "      <td>47.948167</td>\n",
       "      <td>391.387024</td>\n",
       "      <td>333.674608</td>\n",
       "      <td>0.235872</td>\n",
       "      <td>0.171142</td>\n",
       "    </tr>\n",
       "    <tr>\n",
       "      <th>std</th>\n",
       "      <td>259.190850</td>\n",
       "      <td>73.452840</td>\n",
       "      <td>73.228675</td>\n",
       "      <td>63.759127</td>\n",
       "      <td>0.447614</td>\n",
       "      <td>0.407414</td>\n",
       "    </tr>\n",
       "    <tr>\n",
       "      <th>min</th>\n",
       "      <td>-9.870000</td>\n",
       "      <td>-2.062000</td>\n",
       "      <td>228.200000</td>\n",
       "      <td>153.400000</td>\n",
       "      <td>0.000000</td>\n",
       "      <td>0.000000</td>\n",
       "    </tr>\n",
       "    <tr>\n",
       "      <th>10%</th>\n",
       "      <td>-3.745500</td>\n",
       "      <td>0.513000</td>\n",
       "      <td>305.800000</td>\n",
       "      <td>244.050000</td>\n",
       "      <td>0.000000</td>\n",
       "      <td>0.000000</td>\n",
       "    </tr>\n",
       "    <tr>\n",
       "      <th>25%</th>\n",
       "      <td>-2.108000</td>\n",
       "      <td>1.101000</td>\n",
       "      <td>334.600000</td>\n",
       "      <td>286.800000</td>\n",
       "      <td>0.000000</td>\n",
       "      <td>0.039000</td>\n",
       "    </tr>\n",
       "    <tr>\n",
       "      <th>50%</th>\n",
       "      <td>6.292000</td>\n",
       "      <td>3.121500</td>\n",
       "      <td>383.700000</td>\n",
       "      <td>338.300000</td>\n",
       "      <td>0.225000</td>\n",
       "      <td>0.135000</td>\n",
       "    </tr>\n",
       "    <tr>\n",
       "      <th>75%</th>\n",
       "      <td>282.025000</td>\n",
       "      <td>74.315000</td>\n",
       "      <td>433.100000</td>\n",
       "      <td>384.900000</td>\n",
       "      <td>0.281000</td>\n",
       "      <td>0.180000</td>\n",
       "    </tr>\n",
       "    <tr>\n",
       "      <th>90%</th>\n",
       "      <td>615.250000</td>\n",
       "      <td>169.300000</td>\n",
       "      <td>495.750000</td>\n",
       "      <td>416.400000</td>\n",
       "      <td>0.422000</td>\n",
       "      <td>0.244000</td>\n",
       "    </tr>\n",
       "    <tr>\n",
       "      <th>max</th>\n",
       "      <td>1063.000000</td>\n",
       "      <td>600.300000</td>\n",
       "      <td>643.300000</td>\n",
       "      <td>494.200000</td>\n",
       "      <td>15.020000</td>\n",
       "      <td>32.010000</td>\n",
       "    </tr>\n",
       "  </tbody>\n",
       "</table>\n",
       "</div>"
      ],
      "text/plain": [
       "         SR01Up_Avg    SR01Dn_Avg  IR01DnCo_Avg  IR01UpCo_Avg    Albedo_Avg  \\\n",
       "count  52296.000000  52296.000000  52296.000000  52296.000000  50778.000000   \n",
       "mean     170.660869     47.948167    391.387024    333.674608      0.235872   \n",
       "std      259.190850     73.452840     73.228675     63.759127      0.447614   \n",
       "min       -9.870000     -2.062000    228.200000    153.400000      0.000000   \n",
       "10%       -3.745500      0.513000    305.800000    244.050000      0.000000   \n",
       "25%       -2.108000      1.101000    334.600000    286.800000      0.000000   \n",
       "50%        6.292000      3.121500    383.700000    338.300000      0.225000   \n",
       "75%      282.025000     74.315000    433.100000    384.900000      0.281000   \n",
       "90%      615.250000    169.300000    495.750000    416.400000      0.422000   \n",
       "max     1063.000000    600.300000    643.300000    494.200000     15.020000   \n",
       "\n",
       "       Albedo_1_Avg  \n",
       "count  50768.000000  \n",
       "mean       0.171142  \n",
       "std        0.407414  \n",
       "min        0.000000  \n",
       "10%        0.000000  \n",
       "25%        0.039000  \n",
       "50%        0.135000  \n",
       "75%        0.180000  \n",
       "90%        0.244000  \n",
       "max       32.010000  "
      ]
     },
     "execution_count": 7,
     "metadata": {},
     "output_type": "execute_result"
    }
   ],
   "source": [
    "rad_ds = ds[['SR01Up_Avg', 'SR01Dn_Avg', 'IR01DnCo_Avg', 'IR01UpCo_Avg', 'Albedo_Avg', 'Albedo_1_Avg']]\n",
    "raddf = rad_ds.to_dataframe().drop(['lon', 'lat', 'station_name'], axis=1)\n",
    "raddf.describe(percentiles=[.1, .25, .5, .75, .9])"
   ]
  },
  {
   "cell_type": "markdown",
   "metadata": {
    "collapsed": true,
    "deletable": true,
    "editable": true
   },
   "source": [
    "#### Time series of air temperature and skin temperature for conventional roof"
   ]
  },
  {
   "cell_type": "code",
   "execution_count": 8,
   "metadata": {
    "collapsed": false,
    "deletable": true,
    "editable": true
   },
   "outputs": [
    {
     "data": {
      "image/png": "[encoded data removed]",
      "text/plain": [
       "<matplotlib.figure.Figure at 0x104594ed0>"
      ]
     },
     "metadata": {},
     "output_type": "display_data"
    }
   ],
   "source": [
    "newdf['CmCIR_Avg'].loc[slice('2016-08-24', '2016-08-26')].plot()\n",
    "newdf['AirTC_Avg'].loc[slice('2016-08-24', '2016-08-26')].plot()\n",
    "plt.title(\"\")\n",
    "plt.ylabel('Temperature [C]')\n",
    "plt.legend(loc='upper left');"
   ]
  },
  {
   "cell_type": "markdown",
   "metadata": {
    "deletable": true,
    "editable": true
   },
   "source": [
    "#### Show monthly boxplots for the entire time series"
   ]
  },
  {
   "cell_type": "code",
   "execution_count": 9,
   "metadata": {
    "collapsed": false,
    "deletable": true,
    "editable": true
   },
   "outputs": [
    {
     "data": {
      "image/png": "[encoded data removed]",
      "text/plain": [
       "<matplotlib.figure.Figure at 0x10f502210>"
      ]
     },
     "metadata": {},
     "output_type": "display_data"
    }
   ],
   "source": [
    "var = 'CmGIR_Avg'\n",
    "newdf.boxplot(column=var, by=newdf.index.month, whis=[5, 95], sym='', figsize=(12, 5))\n",
    "plt.xlabel('months')\n",
    "plt.ylabel(ds[var].units)\n",
    "plt.title(names[var]+'by month')\n",
    "plt.suptitle('');"
   ]
  },
  {
   "cell_type": "code",
   "execution_count": 10,
   "metadata": {
    "collapsed": false,
    "deletable": true,
    "editable": true
   },
   "outputs": [
    {
     "data": {
      "image/png": "[encoded data removed]",
      "text/plain": [
       "<matplotlib.figure.Figure at 0x110440250>"
      ]
     },
     "metadata": {},
     "output_type": "display_data"
    }
   ],
   "source": [
    "var = 'CmCIR_Avg'\n",
    "newdf.boxplot(column=var, by=newdf.index.month, whis=[5, 95], sym='', figsize=(12, 5))\n",
    "plt.xlabel('months')\n",
    "plt.ylabel(ds[var].units)\n",
    "plt.title(names[var]+'by month')\n",
    "plt.suptitle('');"
   ]
  },
  {
   "cell_type": "markdown",
   "metadata": {},
   "source": [
    "#### Skin temperature - air temperature for conventional roof"
   ]
  },
  {
   "cell_type": "code",
   "execution_count": 11,
   "metadata": {
    "collapsed": false,
    "deletable": true,
    "editable": true
   },
   "outputs": [],
   "source": [
    "newdf['T_diff'] = newdf['CmCIR_Avg'] - newdf['AirTC_Avg']"
   ]
  },
  {
   "cell_type": "code",
   "execution_count": 12,
   "metadata": {
    "collapsed": false,
    "deletable": true,
    "editable": true
   },
   "outputs": [
    {
     "data": {
      "image/png": "[encoded data removed]",
      "text/plain": [
       "<matplotlib.figure.Figure at 0x10fcc4e90>"
      ]
     },
     "metadata": {},
     "output_type": "display_data"
    }
   ],
   "source": [
    "var = 'T_diff'\n",
    "newdf.boxplot(column=var, by=newdf.index.hour, whis=[5, 95], sym='', figsize=(12, 5))\n",
    "plt.xlabel('Hour of day')\n",
    "plt.suptitle('');"
   ]
  },
  {
   "cell_type": "markdown",
   "metadata": {},
   "source": [
    "#### Skin temperature - air temperature for green roof"
   ]
  },
  {
   "cell_type": "code",
   "execution_count": 13,
   "metadata": {
    "collapsed": true,
    "deletable": true,
    "editable": true
   },
   "outputs": [],
   "source": [
    "newdf['T_diffG'] = newdf['CmGIR_Avg'] - newdf['AirTC_2_Avg']"
   ]
  },
  {
   "cell_type": "code",
   "execution_count": 14,
   "metadata": {
    "collapsed": false,
    "deletable": true,
    "editable": true
   },
   "outputs": [
    {
     "data": {
      "image/png": "[encoded data removed]",
      "text/plain": [
       "<matplotlib.figure.Figure at 0x114a257d0>"
      ]
     },
     "metadata": {},
     "output_type": "display_data"
    }
   ],
   "source": [
    "var = 'T_diffG'\n",
    "newdf.boxplot(column=var, by=newdf.index.hour, whis=[5, 95], sym='', figsize=(12, 5))\n",
    "plt.xlabel('Hour of day')\n",
    "plt.suptitle('');"
   ]
  },
  {
   "cell_type": "markdown",
   "metadata": {
    "deletable": true,
    "editable": true
   },
   "source": [
    "#### Plot the diurnal cycle for warm seasons"
   ]
  },
  {
   "cell_type": "code",
   "execution_count": 15,
   "metadata": {
    "collapsed": false,
    "deletable": true,
    "editable": true
   },
   "outputs": [],
   "source": [
    "newdf_warm = newdf[(newdf.index.month >= 6) & (newdf.index.month <=8)]"
   ]
  },
  {
   "cell_type": "code",
   "execution_count": 16,
   "metadata": {
    "collapsed": false,
    "deletable": true,
    "editable": true
   },
   "outputs": [
    {
     "data": {
      "image/png": "[encoded data removed]",
      "text/plain": [
       "<matplotlib.figure.Figure at 0x10fcce510>"
      ]
     },
     "metadata": {},
     "output_type": "display_data"
    }
   ],
   "source": [
    "var = 'T_diff'\n",
    "newdf_warm.boxplot(column=var, by=newdf_warm.index.hour, whis=[5, 95], sym='', figsize=(12, 5))\n",
    "plt.xlabel('Hour of day')\n",
    "plt.suptitle('');"
   ]
  },
  {
   "cell_type": "code",
   "execution_count": 17,
   "metadata": {
    "collapsed": false,
    "deletable": true,
    "editable": true
   },
   "outputs": [
    {
     "data": {
      "image/png": "[encoded data removed]",
      "text/plain": [
       "<matplotlib.figure.Figure at 0x11585e190>"
      ]
     },
     "metadata": {},
     "output_type": "display_data"
    }
   ],
   "source": [
    "var = 'T_diffG'\n",
    "newdf_warm.boxplot(column=var, by=newdf_warm.index.hour, whis=[5, 95], sym='', figsize=(12, 5))\n",
    "plt.xlabel('Hour of day')\n",
    "plt.suptitle('');"
   ]
  },
  {
   "cell_type": "code",
   "execution_count": 18,
   "metadata": {
    "collapsed": false,
    "deletable": true,
    "editable": true
   },
   "outputs": [
    {
     "data": {
      "image/png": "[encoded data removed]",
      "text/plain": [
       "<matplotlib.figure.Figure at 0x115cee190>"
      ]
     },
     "metadata": {},
     "output_type": "display_data"
    }
   ],
   "source": [
    "# Albedo of Conventional Roof\n",
    "var = 'Albedo_Avg'\n",
    "raddf.boxplot(column=var, by=raddf.index.hour, whis=[5, 95], sym='', figsize=(12, 5))\n",
    "plt.xlabel('Hour of day')\n",
    "plt.ylim((0.1, 0.4))\n",
    "plt.suptitle('');"
   ]
  },
  {
   "cell_type": "code",
   "execution_count": 19,
   "metadata": {
    "collapsed": false,
    "deletable": true,
    "editable": true
   },
   "outputs": [
    {
     "data": {
      "image/png": "[encoded data removed]",
      "text/plain": [
       "<matplotlib.figure.Figure at 0x10fcce250>"
      ]
     },
     "metadata": {},
     "output_type": "display_data"
    }
   ],
   "source": [
    "# Albedo of Green Roof\n",
    "var = 'Albedo_1_Avg'\n",
    "raddf.boxplot(column=var, by=raddf.index.hour, whis=[5, 95], sym='', figsize=(12, 5))\n",
    "plt.xlabel('Hour of day')\n",
    "plt.ylim((0.1, 0.4))\n",
    "plt.suptitle('');"
   ]
  }
 ],
 "metadata": {
  "kernelspec": {
   "display_name": "Python 2",
   "language": "python",
   "name": "python2"
  },
  "language_info": {
   "codemirror_mode": {
    "name": "ipython",
    "version": 2
   },
   "file_extension": ".py",
   "mimetype": "text/x-python",
   "name": "python",
   "nbconvert_exporter": "python",
   "pygments_lexer": "ipython2",
   "version": "2.7.11"
  }
 },
 "nbformat": 4,
 "nbformat_minor": 0
}
