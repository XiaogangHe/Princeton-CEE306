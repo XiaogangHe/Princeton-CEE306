{
 "cells": [
  {
   "cell_type": "markdown",
   "metadata": {
    "deletable": true,
    "editable": true
   },
   "source": [
    "## load packages"
   ]
  },
  {
   "cell_type": "code",
   "execution_count": 1,
   "metadata": {
    "collapsed": false,
    "deletable": true,
    "editable": true
   },
   "outputs": [],
   "source": [
    "import numpy as np\n",
    "import pandas as pd\n",
    "import xarray as xr\n",
    "from skewt import SkewT\n",
    "import matplotlib.pyplot as plt\n",
    "#%matplotlib inline\n",
    "\n",
    "from distutils.core import setup\n"
   ]
  },
  {
   "cell_type": "markdown",
   "metadata": {
    "deletable": true,
    "editable": true
   },
   "source": [
    "## Sounding data\n",
    "\n",
    "You can get data from asounding in the UWyo format (i.e., from http://weather.uwyo.edu/upperair/sounding.html), and copy and paste it into a txt file. \n",
    "\n"
   ]
  },
  {
   "cell_type": "code",
   "execution_count": 1,
   "metadata": {
    "collapsed": false,
    "deletable": true,
    "editable": true
   },
   "outputs": [
    {
     "ename": "NameError",
     "evalue": "name 'SkewT' is not defined",
     "output_type": "error",
     "traceback": [
      "\u001b[0;31m---------------------------------------------------------------------------\u001b[0m",
      "\u001b[0;31mNameError\u001b[0m                                 Traceback (most recent call last)",
      "\u001b[0;32m<ipython-input-1-8369711e2c12>\u001b[0m in \u001b[0;36m<module>\u001b[0;34m()\u001b[0m\n\u001b[1;32m      1\u001b[0m \u001b[0;34m\u001b[0m\u001b[0m\n\u001b[0;32m----> 2\u001b[0;31m \u001b[0msounding\u001b[0m \u001b[0;34m=\u001b[0m \u001b[0mSkewT\u001b[0m\u001b[0;34m.\u001b[0m\u001b[0mSounding\u001b[0m\u001b[0;34m(\u001b[0m\u001b[0;34m'../Data/KFGZ_Sounding_2015091412.dat'\u001b[0m\u001b[0;34m)\u001b[0m\u001b[0;34m\u001b[0m\u001b[0m\n\u001b[0m",
      "\u001b[0;31mNameError\u001b[0m: name 'SkewT' is not defined"
     ]
    }
   ],
   "source": [
    "\n",
    "sounding = SkewT.Sounding('../Data/KFGZ_Sounding_2015091412.dat')\n"
   ]
  },
  {
   "cell_type": "code",
   "execution_count": null,
   "metadata": {
    "collapsed": true,
    "deletable": true,
    "editable": true
   },
   "outputs": [],
   "source": [
    "snd_p = sounding.soundingdata['pres'] # pressure (hPa)\n",
    "snd_t = sounding.soundingdata['temp'] # temperature (degreeC)\n",
    "snd_h = sounding.soundingdata['hght'] # height (m)\n",
    "snd_dpt = sounding.soundingdata['dwpt'] # dewpoint temperature (degreeC)\n",
    "snd__rh = sounding.soundingdata['relh'] # relative humidity (%)\n",
    "snd_mixr = sounding.soundingdata['mixr'] # mixing ratio (g/kg)\n",
    "snd_drct = sounding.soundingdata['drct'] # wind direction (deg)\n",
    "snd_sknt =  sounding.soundingdata['sknt'] # wind speed (knots)\n",
    "snd_thta = sounding.soundingdata['thta'] # potential temperature (degreeK)\n",
    "snd_thte = sounding.soundingdata['thte'] # equivalent potential temperature (degreeK)\n",
    "snd_thtv = sounding.soundingdata['thtv'] # virtual potential temperature temperature (degreeK)"
   ]
  },
  {
   "cell_type": "code",
   "execution_count": 7,
   "metadata": {
    "collapsed": false,
    "deletable": true,
    "editable": true
   },
   "outputs": [
    {
     "name": "stdout",
     "output_type": "stream",
     "text": [
      "WARNING: substituting -200C for masked values of DWPT in this sounding\n",
      "\n",
      "---- Lifted Parcel Quantities ----\n",
      "Parcel: \n",
      "Ps  :1004.0hPa\n",
      "TCs :  17.4C\n",
      "TDs :   8.6C\n",
      "-------------\n",
      "Plcl: 880.3hPa\n",
      "Tlcl:   6.7C\n",
      "Plfc: 880.3hPa\n",
      "P_el: 770.9hPa\n",
      "CAPE:-31765.5J\n",
      "CIN:    0.0J\n",
      "\n",
      "---- Lifted Parcel Quantities ----\n",
      "Parcel: MU\n",
      "Ps  : 777.0hPa\n",
      "TCs :  12.6C\n",
      "TDs :  10.6C\n",
      "-------------\n",
      "Plcl: 754.1hPa\n",
      "Tlcl:  10.2C\n",
      "Plfc: 626.9hPa\n",
      "P_el: 266.9hPa\n",
      "CAPE: 232.4J\n",
      "CIN:  -70.4J\n",
      "saving figure\n"
     ]
    }
   ],
   "source": [
    "\n",
    "\n",
    "#sounding.plot_skewt(color='r',lw=2)\n",
    "#sounding.plot_skewt()\n",
    "sounding.make_skewt_axes()\n",
    "sounding.add_profile(color='r',lw=2)\n",
    "sounding.lift_parcel(1004.,17.4,8.6)\n",
    "sounding.plot_skewt(imagename='test.pdf',color='r',lw=2)\n",
    "\n",
    "\n",
    "\n",
    "\n",
    "\n",
    "\n",
    "\n",
    "\n",
    "\n",
    "\n"
   ]
  },
  {
   "cell_type": "code",
   "execution_count": null,
   "metadata": {
    "collapsed": true,
    "deletable": true,
    "editable": true
   },
   "outputs": [],
   "source": []
  }
 ],
 "metadata": {
  "kernelspec": {
   "display_name": "Python 2",
   "language": "python",
   "name": "python2"
  },
  "language_info": {
   "codemirror_mode": {
    "name": "ipython",
    "version": 2
   },
   "file_extension": ".py",
   "mimetype": "text/x-python",
   "name": "python",
   "nbconvert_exporter": "python",
   "pygments_lexer": "ipython2",
   "version": "2.7.11"
  }
 },
 "nbformat": 4,
 "nbformat_minor": 0
}
