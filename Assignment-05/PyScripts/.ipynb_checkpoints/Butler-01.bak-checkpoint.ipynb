{
 "cells": [
  {
   "cell_type": "markdown",
   "metadata": {
    "deletable": true,
    "editable": true
   },
   "source": [
    "The `%matplotlib` magic command is used here to enable plotting in the current notebook. The `inline` backend will embed plots inside the notebook."
   ]
  },
  {
   "cell_type": "code",
   "execution_count": 1,
   "metadata": {
    "collapsed": true,
    "deletable": true,
    "editable": true
   },
   "outputs": [],
   "source": [
    "%matplotlib inline"
   ]
  },
  {
   "cell_type": "markdown",
   "metadata": {
    "deletable": true,
    "editable": true
   },
   "source": [
    "#### Import necessary modules"
   ]
  },
  {
   "cell_type": "code",
   "execution_count": 2,
   "metadata": {
    "collapsed": true,
    "deletable": true,
    "editable": true
   },
   "outputs": [],
   "source": [
    "import numpy as np\n",
    "import pandas as pd\n",
    "import xarray as xr\n",
    "import matplotlib.pyplot as plt\n",
    "import matplotlib.cm as cm"
   ]
  },
  {
   "cell_type": "markdown",
   "metadata": {
    "deletable": true,
    "editable": true
   },
   "source": [
    "#### We can directly read the netcdf file from the THREDDS server using the xarray package: "
   ]
  },
  {
   "cell_type": "code",
   "execution_count": 3,
   "metadata": {
    "collapsed": false,
    "deletable": true,
    "editable": true
   },
   "outputs": [],
   "source": [
    "ds = xr.open_dataset('http://hydromet-thredds.princeton.edu:9000/thredds/dodsC/MonitoringStations/butler.nc')"
   ]
  },
  {
   "cell_type": "markdown",
   "metadata": {
    "deletable": true,
    "editable": true
   },
   "source": [
    "#### You can list variables in the netcdf file:"
   ]
  },
  {
   "cell_type": "code",
   "execution_count": 5,
   "metadata": {
    "collapsed": false,
    "deletable": true,
    "editable": true
   },
   "outputs": [
    {
     "name": "stdout",
     "output_type": "stream",
     "text": [
      "<xarray.Dataset>\n",
      "Dimensions:                  (row: 52076)\n",
      "Coordinates:\n",
      "    station_name             (row) |S6 'butler' 'butler' 'butler' 'butler' ...\n",
      "Dimensions without coordinates: row\n",
      "Data variables:\n",
      "    time                     (row) datetime64[ns] 2011-03-01T18:00:00 ...\n",
      "    AirTC_2_Avg              (row) float64 6.695 7.641 8.59 9.23 8.88 7.533 ...\n",
      "    AirTC_Avg                (row) float64 6.504 7.484 8.48 8.91 8.77 7.254 ...\n",
      "    Albedo_1_Avg             (row) float64 0.166 0.165 0.168 0.183 0.248 ...\n",
      "    Albedo_Avg               (row) float64 0.342 0.35 0.358 0.361 0.368 ...\n",
      "    CmCIR_Avg                (row) float64 11.21 13.01 13.07 11.36 7.267 ...\n",
      "    CmGIR_Avg                (row) float64 18.23 18.54 17.39 14.25 9.34 ...\n",
      "    DnTot_Avg                (row) float64 287.0 271.3 228.4 159.0 76.84 ...\n",
      "    IR01DnCo_Avg             (row) float64 385.4 392.4 391.1 383.2 364.2 ...\n",
      "    IR01Dn_Avg               (row) float64 25.71 26.11 20.53 11.16 -0.71 ...\n",
      "    IR01UpCo_Avg             (row) float64 245.9 247.7 247.5 246.7 241.9 ...\n",
      "    IR01Up_Avg               (row) float64 -113.8 -118.5 -123.0 -125.3 ...\n",
      "    LPO2Dn_Avg               (row) float64 126.5 116.0 97.3 74.4 50.79 7.232 ...\n",
      "    Max_Run_Tot_mm_24hr_Max  (row) float64 nan nan nan nan nan nan nan nan ...\n",
      "    Max_Run_Tot_mm_2hr_Max   (row) float64 nan nan nan nan nan nan nan nan ...\n",
      "    NR01TC_Avg               (row) float64 9.07 10.35 11.17 11.45 10.08 7.22 ...\n",
      "    NR01TK_Avg               (row) float64 282.2 283.5 284.3 284.6 283.2 ...\n",
      "    NetRl_Avg                (row) float64 -139.5 -144.6 -143.6 -136.5 ...\n",
      "    NetRs_Avg                (row) float64 503.0 456.4 372.4 261.1 135.0 ...\n",
      "    NetTot_Avg               (row) float64 363.5 311.7 228.9 124.7 12.75 ...\n",
      "    PA_uS                    (row) float64 24.82 24.77 24.71 24.66 24.59 ...\n",
      "    PA_uS_2                  (row) float64 22.69 22.66 22.62 22.58 22.58 ...\n",
      "    PA_uS_3                  (row) float64 21.78 21.71 21.66 21.61 21.57 ...\n",
      "    PA_uS_4                  (row) float64 22.71 22.61 22.53 22.46 22.39 ...\n",
      "    RECORD                   (row) float64 290.0 291.0 292.0 293.0 294.0 ...\n",
      "    RH                       (row) float64 24.02 21.57 21.86 21.09 23.03 ...\n",
      "    RHCroof                  (row) float64 23.52 22.88 19.61 19.92 21.89 ...\n",
      "    RH_2                     (row) float64 23.72 20.12 18.54 18.54 21.42 ...\n",
      "    Rain_mm_2_Tot            (row) float64 2.286 2.286 1.524 1.016 0.508 0.0 ...\n",
      "    Rain_mm_3600_Tot         (row) float64 0.0 0.0 0.0 0.0 0.0 0.0 0.0 0.0 ...\n",
      "    Rain_mm_3_Tot            (row) float64 0.0 0.0 0.0 0.0 0.0 0.0 0.0 0.0 ...\n",
      "    Rain_mm_Tot              (row) float64 0.254 0.0 0.508 0.508 0.254 0.0 ...\n",
      "    SBT_C_2_Avg              (row) float64 8.98 10.57 11.96 12.53 11.72 ...\n",
      "    SBT_C_Avg                (row) float64 10.35 11.34 11.9 12.26 10.6 7.378 ...\n",
      "    SR01Dn_Avg               (row) float64 261.3 245.2 207.8 147.8 77.55 ...\n",
      "    SR01Up_Avg               (row) float64 764.3 701.6 580.3 408.9 212.6 ...\n",
      "    Storm_Type_mm_24hr       (row) |S12 '' '' '' '' '' '' '' '' '' '' '' '' ...\n",
      "    Storm_Type_mm_2hr        (row) |S12 '' '' '' '' '' '' '' '' '' '' '' '' ...\n",
      "    T108_C_Avg_11            (row) float64 22.92 22.89 22.88 22.87 22.87 ...\n",
      "    T108_C_Avg_12            (row) float64 22.41 22.33 22.3 22.27 22.22 ...\n",
      "    T108_C_Avg_13            (row) float64 23.9 23.89 23.9 23.93 23.95 23.95 ...\n",
      "    T108_C_Avg_14            (row) float64 31.92 31.86 31.83 31.81 31.78 ...\n",
      "    T108_C_Avg_15            (row) float64 23.26 23.21 23.21 23.18 23.16 ...\n",
      "    T108_C_Avg_16            (row) float64 9.53 11.99 13.12 13.09 9.53 6.109 ...\n",
      "    T108_roof10_Avg          (row) float64 22.26 22.22 22.24 22.24 22.24 ...\n",
      "    T108_roof1_Avg           (row) float64 21.17 21.17 21.17 21.19 21.19 ...\n",
      "    T108_roof2_Avg           (row) float64 21.83 21.87 21.92 21.95 21.97 ...\n",
      "    T108_roof3_Avg           (row) float64 20.7 20.67 20.65 20.62 20.6 20.63 ...\n",
      "    T108_roof4_Avg           (row) float64 16.11 17.12 16.37 14.23 9.71 ...\n",
      "    T108_roof5_Avg           (row) float64 13.48 15.74 16.44 15.71 13.09 ...\n",
      "    T108_roof6_Avg           (row) float64 11.88 14.32 15.23 14.53 12.05 ...\n",
      "    T108_roof7_Avg           (row) float64 23.64 23.65 23.68 23.71 23.73 ...\n",
      "    T108_roof8_Avg           (row) float64 24.2 24.22 24.24 24.26 24.27 ...\n",
      "    T108_roof9_Avg           (row) float64 24.19 24.18 24.2 24.22 24.23 ...\n",
      "    TCAV_1_Avg               (row) float64 7.229 7.999 8.89 9.77 10.45 10.79 ...\n",
      "    TCAV_2_Avg               (row) float64 6.814 8.56 10.77 12.83 14.42 ...\n",
      "    TCAV_3_Avg               (row) float64 6.819 8.56 10.77 12.82 14.42 ...\n",
      "    TCAV_4_Avg               (row) float64 7.753 9.17 10.09 10.29 9.82 8.74 ...\n",
      "    TCroof_Avg               (row) float64 5.565 6.38 7.37 7.931 7.734 6.991 ...\n",
      "    UpTot_Avg                (row) float64 650.5 583.0 457.2 283.6 89.6 ...\n",
      "    VW                       (row) float64 0.209 0.207 0.206 0.204 0.202 0.2 ...\n",
      "    VW_2                     (row) float64 0.151 0.15 0.149 0.148 0.148 ...\n",
      "    VW_3                     (row) float64 0.129 0.127 0.126 0.124 0.123 ...\n",
      "    VW_4                     (row) float64 0.152 0.149 0.147 0.145 0.144 ...\n",
      "    WindDir_deg              (row) float64 48.11 37.74 36.7 349.9 270.7 ...\n",
      "    WindDir_std_dev          (row) float64 60.02 71.39 94.9 91.5 50.52 35.5 ...\n",
      "    WindSpd_ms               (row) float64 2.042 1.778 1.333 1.131 1.271 ...\n",
      "    hfp01_10_Avg             (row) float64 -13.46 -10.67 -9.257 -6.469 ...\n",
      "    hfp01_11_Avg             (row) float64 -14.79 -12.32 -10.56 -9.328 ...\n",
      "    hfp01_12_Avg             (row) float64 -18.6 -15.79 -13.91 -11.07 -10.55 ...\n",
      "    hfp01_1_Avg              (row) float64 1.32 20.59 36.49 44.4 41.01 27.55 ...\n",
      "    hfp01_2_Avg              (row) float64 65.18 97.87 108.1 91.66 53.54 ...\n",
      "    hfp01_3_Avg              (row) float64 75.79 114.3 129.1 115.6 75.46 ...\n",
      "    hfp01_4_Avg              (row) float64 -17.32 -18.37 -18.37 -18.37 ...\n",
      "    hfp01_5_Avg              (row) float64 -18.15 -18.74 -18.74 -18.73 ...\n",
      "    hfp01_6_Avg              (row) float64 -30.29 -30.62 -30.61 -29.88 ...\n",
      "    hfp01_7_Avg              (row) float64 51.49 3.607 -49.25 -85.76 -150.1 ...\n",
      "    hfp01_8_Avg              (row) float64 118.5 77.39 12.01 -55.48 -141.8 ...\n",
      "    hfp01_9_Avg              (row) float64 86.74 45.64 -4.94 -57.87 -120.3 ...\n",
      "    latitude                 (row) float64 40.34 40.34 40.34 40.34 40.34 ...\n",
      "    longitude                (row) float64 -74.66 -74.66 -74.66 -74.66 ...\n",
      "Attributes:\n",
      "    _NCProperties: version=1|h5netcdfversion=0.3.0|hdf5libversion=1.8.17\n",
      "    cdm_data_type: TimeSeries\n",
      "    cdm_timeseries_variables: longitude, latitude\n",
      "    Conventions: CF-1.6, COARDS, ACDD-1.3\n",
      "    description: Butler Green Roof Station\n",
      "    Easternmost_Easting: -74.65586\n",
      "    featureType: TimeSeries\n",
      "    geospatial_lat_max: 40.34421\n",
      "    geospatial_lat_min: 40.34421\n",
      "    geospatial_lat_units: degrees_north\n",
      "    geospatial_lon_max: -74.65586\n",
      "    geospatial_lon_min: -74.65586\n",
      "    geospatial_lon_units: degrees_east\n",
      "    history: Created 2017-02-18 09:40:43.839354\n",
      "2017-02-18T14:46:48Z (local files)\n",
      "2017-02-18T14:46:48Z http://hydromet-thredds.princeton.edu:8000/erddap/tabledap/butler.nc?time,AirTC_2_Avg,AirTC_Avg,Albedo_1_Avg,Albedo_Avg,CmCIR_Avg,CmGIR_Avg,DnTot_Avg,IR01DnCo_Avg,IR01Dn_Avg,IR01UpCo_Avg,IR01Up_Avg,LPO2Dn_Avg,Max_Run_Tot_mm_24hr_Max,Max_Run_Tot_mm_2hr_Max,NR01TC_Avg,NR01TK_Avg,NetRl_Avg,NetRs_Avg,NetTot_Avg,PA_uS,PA_uS_2,PA_uS_3,PA_uS_4,RECORD,RH,RHCroof,RH_2,Rain_mm_2_Tot,Rain_mm_3600_Tot,Rain_mm_3_Tot...\n",
      "    id: butler_c8ee_04d0_8183\n",
      "    infoUrl: http://hydrometeorology.princeton.edu#butler\n",
      "    institution: Princeton University\n",
      "    keywords: 24hr, 2hr, air, AirTC_2_Avg, AirTC_Avg, albedo, Albedo_1_Avg, Albedo_Avg, atmosphere,\n",
      "Atmosphere > Atmospheric Water Vapor > Humidity,\n",
      "Atmosphere > Atmospheric Winds > Surface Winds,\n",
      "atmospheric, average, butler, cir, CmCIR_Avg, CmGIR_Avg, data, direction, dissolved, dissolved o2, DnTot_Avg, gir, green, hfp01, hfp01_10_Avg, hfp01_11_Avg, hfp01_12_Avg, hfp01_1_Avg, hfp01_2_Avg, hfp01_3_Avg, hfp01_4_Avg, hfp01_5_Avg, hfp01_6_Avg, hfp01_7_Avg, hfp01_8_Avg, hfp01_9_Avg, humidity, identifier, ir01...\n",
      "    keywords_vocabulary: GCMD Science Keywords\n",
      "    license: The data may be used and redistributed for free but is not intended\n",
      "for legal use, since it may contain inaccuracies. Neither the data\n",
      "Contributor, ERD, NOAA, nor the United States Government, nor any\n",
      "of their employees or contractors, makes any warranty, express or\n",
      "implied, including warranties of merchantability and fitness for a\n",
      "particular purpose, or assumes any legal liability for the accuracy,\n",
      "completeness, or usefulness, of this information.\n",
      "    Northernmost_Northing: 40.34421\n",
      "    sourceUrl: (local files)\n",
      "    Southernmost_Northing: 40.34421\n",
      "    standard_name_vocabulary: CF Standard Name Table v29\n",
      "    subsetVariables: longitude, latitude\n",
      "    summary: Butler Green Roof Station. Data from a local source.\n",
      "    time_coverage_end: 2017-02-18T08:00:00Z\n",
      "    time_coverage_start: 2011-03-01T18:00:00Z\n",
      "    title: Butler Green Roof Station\n",
      "    Westernmost_Easting: -74.65586\n"
     ]
    }
   ],
   "source": [
    "print ds"
   ]
  },
  {
   "cell_type": "markdown",
   "metadata": {
    "deletable": true,
    "editable": true
   },
   "source": [
    "#### Tip 1\n",
    "\n",
    "To make our lives easier, we can create a dictionary that contains the variable names as they are in the table above as well as the actual names that humans use. We will call this dictionary: names. Once we have created this dictionary, we can look up the data variables in it and get the human name.\n",
    "\n",
    "For example:"
   ]
  },
  {
   "cell_type": "code",
   "execution_count": 6,
   "metadata": {
    "collapsed": false,
    "deletable": true,
    "editable": true
   },
   "outputs": [
    {
     "name": "stdout",
     "output_type": "stream",
     "text": [
      "Infrared Skin Temperature (green roof)\n"
     ]
    }
   ],
   "source": [
    "names = {'AirTC_Avg': 'Air Temperature (conventional roof)',\n",
    "         'AirTC_2_Avg': 'Air Temperature (green roof)',\n",
    "         'RH': 'Relative Humidity (conventional Roof)',\n",
    "         'RH_2': 'Relative Humidity (green roof)',\n",
    "         'CmCIR_Avg': 'Infrared Skin Temperature (conventional roof)',\n",
    "         'CmGIR_Avg': 'Infrared Skin Temperature (green roof)'}\n",
    "print names['CmGIR_Avg']"
   ]
  },
  {
   "cell_type": "markdown",
   "metadata": {
    "deletable": true,
    "editable": true
   },
   "source": [
    "#### Tip 2\n",
    "\n",
    "To plot several variables over a defined period of time, we can use a list of variables, and a slice of time to generate a `pandas.DataFrame`. Converting to a `pandas.DataFrame` gives us lots of options for analysis, but it also means that we are going to load the data into local memory, so be careful how much data you try to load. This can get slow if you try to load all the variables for years of data being collected every minute. \n",
    "\n",
    "For example:"
   ]
  },
  {
   "cell_type": "code",
   "execution_count": 7,
   "metadata": {
    "collapsed": false,
    "deletable": true,
    "editable": true
   },
   "outputs": [
    {
     "data": {
      "text/html": [
       "<div>\n",
       "<table border=\"1\" class=\"dataframe\">\n",
       "  <thead>\n",
       "    <tr style=\"text-align: right;\">\n",
       "      <th></th>\n",
       "      <th>AirTC_Avg</th>\n",
       "      <th>AirTC_2_Avg</th>\n",
       "      <th>RH</th>\n",
       "      <th>RH_2</th>\n",
       "      <th>CmCIR_Avg</th>\n",
       "      <th>CmGIR_Avg</th>\n",
       "    </tr>\n",
       "  </thead>\n",
       "  <tbody>\n",
       "    <tr>\n",
       "      <th>count</th>\n",
       "      <td>52076.000000</td>\n",
       "      <td>52076.000000</td>\n",
       "      <td>52076.000000</td>\n",
       "      <td>52076.000000</td>\n",
       "      <td>52076.000000</td>\n",
       "      <td>52076.000000</td>\n",
       "    </tr>\n",
       "    <tr>\n",
       "      <th>mean</th>\n",
       "      <td>13.121328</td>\n",
       "      <td>13.220836</td>\n",
       "      <td>67.294327</td>\n",
       "      <td>64.349364</td>\n",
       "      <td>13.058930</td>\n",
       "      <td>13.292702</td>\n",
       "    </tr>\n",
       "    <tr>\n",
       "      <th>std</th>\n",
       "      <td>10.286360</td>\n",
       "      <td>10.275650</td>\n",
       "      <td>25.324400</td>\n",
       "      <td>20.922912</td>\n",
       "      <td>14.518814</td>\n",
       "      <td>11.888483</td>\n",
       "    </tr>\n",
       "    <tr>\n",
       "      <th>min</th>\n",
       "      <td>-17.900000</td>\n",
       "      <td>-17.930000</td>\n",
       "      <td>10.600000</td>\n",
       "      <td>10.700000</td>\n",
       "      <td>-25.260000</td>\n",
       "      <td>-22.150000</td>\n",
       "    </tr>\n",
       "    <tr>\n",
       "      <th>10%</th>\n",
       "      <td>-0.402500</td>\n",
       "      <td>-0.316000</td>\n",
       "      <td>36.730000</td>\n",
       "      <td>35.430000</td>\n",
       "      <td>-4.498000</td>\n",
       "      <td>-2.022000</td>\n",
       "    </tr>\n",
       "    <tr>\n",
       "      <th>25%</th>\n",
       "      <td>4.969750</td>\n",
       "      <td>5.106000</td>\n",
       "      <td>48.940000</td>\n",
       "      <td>47.720000</td>\n",
       "      <td>2.165750</td>\n",
       "      <td>4.124000</td>\n",
       "    </tr>\n",
       "    <tr>\n",
       "      <th>50%</th>\n",
       "      <td>13.540000</td>\n",
       "      <td>13.660000</td>\n",
       "      <td>65.580000</td>\n",
       "      <td>64.340000</td>\n",
       "      <td>12.150000</td>\n",
       "      <td>13.380000</td>\n",
       "    </tr>\n",
       "    <tr>\n",
       "      <th>75%</th>\n",
       "      <td>21.280000</td>\n",
       "      <td>21.360000</td>\n",
       "      <td>83.600000</td>\n",
       "      <td>82.700000</td>\n",
       "      <td>21.410000</td>\n",
       "      <td>21.430000</td>\n",
       "    </tr>\n",
       "    <tr>\n",
       "      <th>90%</th>\n",
       "      <td>26.490000</td>\n",
       "      <td>26.550000</td>\n",
       "      <td>95.100000</td>\n",
       "      <td>93.000000</td>\n",
       "      <td>33.390000</td>\n",
       "      <td>28.960000</td>\n",
       "    </tr>\n",
       "    <tr>\n",
       "      <th>max</th>\n",
       "      <td>40.770000</td>\n",
       "      <td>39.410000</td>\n",
       "      <td>160.700000</td>\n",
       "      <td>100.000000</td>\n",
       "      <td>59.620000</td>\n",
       "      <td>50.180000</td>\n",
       "    </tr>\n",
       "  </tbody>\n",
       "</table>\n",
       "</div>"
      ],
      "text/plain": [
       "          AirTC_Avg   AirTC_2_Avg            RH          RH_2     CmCIR_Avg  \\\n",
       "count  52076.000000  52076.000000  52076.000000  52076.000000  52076.000000   \n",
       "mean      13.121328     13.220836     67.294327     64.349364     13.058930   \n",
       "std       10.286360     10.275650     25.324400     20.922912     14.518814   \n",
       "min      -17.900000    -17.930000     10.600000     10.700000    -25.260000   \n",
       "10%       -0.402500     -0.316000     36.730000     35.430000     -4.498000   \n",
       "25%        4.969750      5.106000     48.940000     47.720000      2.165750   \n",
       "50%       13.540000     13.660000     65.580000     64.340000     12.150000   \n",
       "75%       21.280000     21.360000     83.600000     82.700000     21.410000   \n",
       "90%       26.490000     26.550000     95.100000     93.000000     33.390000   \n",
       "max       40.770000     39.410000    160.700000    100.000000     59.620000   \n",
       "\n",
       "          CmGIR_Avg  \n",
       "count  52076.000000  \n",
       "mean      13.292702  \n",
       "std       11.888483  \n",
       "min      -22.150000  \n",
       "10%       -2.022000  \n",
       "25%        4.124000  \n",
       "50%       13.380000  \n",
       "75%       21.430000  \n",
       "90%       28.960000  \n",
       "max       50.180000  "
      ]
     },
     "execution_count": 7,
     "metadata": {},
     "output_type": "execute_result"
    }
   ],
   "source": [
    "Temp_and_RH_ds = ds[['AirTC_Avg', 'AirTC_2_Avg', 'RH','RH_2', 'CmCIR_Avg', 'CmGIR_Avg']]\n",
    "newdf = Temp_and_RH_ds.to_dataframe().drop(['lon', 'lat', 'station_name'], axis=1)\n",
    "newdf = newdf.set_index('time')\n",
    "newdf.describe(percentiles=[.1, .25, .5, .75, .9])"
   ]
  },
  {
   "cell_type": "code",
   "execution_count": null,
   "metadata": {
    "collapsed": false,
    "deletable": true,
    "editable": true
   },
   "outputs": [],
   "source": []
  },
  {
   "cell_type": "markdown",
   "metadata": {
    "deletable": true,
    "editable": true
   },
   "source": [
    "#### You can plot the time series picking up 2 variables for the entire data record:"
   ]
  },
  {
   "cell_type": "code",
   "execution_count": 8,
   "metadata": {
    "collapsed": false,
    "deletable": true,
    "editable": true
   },
   "outputs": [
    {
     "data": {
      "image/png": "[encoded data removed]",
      "text/plain": [
       "<matplotlib.figure.Figure at 0x10f3bb6d0>"
      ]
     },
     "metadata": {},
     "output_type": "display_data"
    }
   ],
   "source": [
    "newdf.AirTC_Avg.plot()\n",
    "newdf.AirTC_2_Avg.plot()\n",
    "plt.ylabel('Temperature [C]')\n",
    "plt.legend(loc='upper right');"
   ]
  },
  {
   "cell_type": "markdown",
   "metadata": {
    "collapsed": true,
    "deletable": true,
    "editable": true
   },
   "source": [
    "#### If you just want to show one particular day:"
   ]
  },
  {
   "cell_type": "code",
   "execution_count": 9,
   "metadata": {
    "collapsed": false,
    "deletable": true,
    "editable": true
   },
   "outputs": [
    {
     "ename": "KeyError",
     "evalue": "'the label [2016-02-23] is not in the [index]'",
     "output_type": "error",
     "traceback": [
      "\u001b[0;31m---------------------------------------------------------------------------\u001b[0m",
      "\u001b[0;31mKeyError\u001b[0m                                  Traceback (most recent call last)",
      "\u001b[0;32m<ipython-input-9-bd507a8f0681>\u001b[0m in \u001b[0;36m<module>\u001b[0;34m()\u001b[0m\n\u001b[0;32m----> 1\u001b[0;31m \u001b[0mnewdf\u001b[0m\u001b[0;34m[\u001b[0m\u001b[0;34m'AirTC_Avg'\u001b[0m\u001b[0;34m]\u001b[0m\u001b[0;34m.\u001b[0m\u001b[0mloc\u001b[0m\u001b[0;34m[\u001b[0m\u001b[0;34m'2016-02-23'\u001b[0m\u001b[0;34m]\u001b[0m\u001b[0;34m.\u001b[0m\u001b[0mplot\u001b[0m\u001b[0;34m(\u001b[0m\u001b[0;34m)\u001b[0m\u001b[0;34m\u001b[0m\u001b[0m\n\u001b[0m\u001b[1;32m      2\u001b[0m \u001b[0mnewdf\u001b[0m\u001b[0;34m[\u001b[0m\u001b[0;34m'AirTC_2_Avg'\u001b[0m\u001b[0;34m]\u001b[0m\u001b[0;34m.\u001b[0m\u001b[0mloc\u001b[0m\u001b[0;34m[\u001b[0m\u001b[0;34m'2016-02-23'\u001b[0m\u001b[0;34m]\u001b[0m\u001b[0;34m.\u001b[0m\u001b[0mplot\u001b[0m\u001b[0;34m(\u001b[0m\u001b[0;34m)\u001b[0m\u001b[0;34m\u001b[0m\u001b[0m\n\u001b[1;32m      3\u001b[0m \u001b[0mplt\u001b[0m\u001b[0;34m.\u001b[0m\u001b[0mtitle\u001b[0m\u001b[0;34m(\u001b[0m\u001b[0;34m\"\"\u001b[0m\u001b[0;34m)\u001b[0m\u001b[0;34m\u001b[0m\u001b[0m\n\u001b[1;32m      4\u001b[0m \u001b[0mplt\u001b[0m\u001b[0;34m.\u001b[0m\u001b[0mylabel\u001b[0m\u001b[0;34m(\u001b[0m\u001b[0;34m'Temperature [C]'\u001b[0m\u001b[0;34m)\u001b[0m\u001b[0;34m\u001b[0m\u001b[0m\n\u001b[1;32m      5\u001b[0m \u001b[0mplt\u001b[0m\u001b[0;34m.\u001b[0m\u001b[0mlegend\u001b[0m\u001b[0;34m(\u001b[0m\u001b[0mloc\u001b[0m\u001b[0;34m=\u001b[0m\u001b[0;34m'upper right'\u001b[0m\u001b[0;34m)\u001b[0m\u001b[0;34m;\u001b[0m\u001b[0;34m\u001b[0m\u001b[0m\n",
      "\u001b[0;32m/Users/hexg/anaconda/lib/python2.7/site-packages/pandas/core/indexing.pyc\u001b[0m in \u001b[0;36m__getitem__\u001b[0;34m(self, key)\u001b[0m\n\u001b[1;32m   1310\u001b[0m             \u001b[0;32mreturn\u001b[0m \u001b[0mself\u001b[0m\u001b[0;34m.\u001b[0m\u001b[0m_getitem_tuple\u001b[0m\u001b[0;34m(\u001b[0m\u001b[0mkey\u001b[0m\u001b[0;34m)\u001b[0m\u001b[0;34m\u001b[0m\u001b[0m\n\u001b[1;32m   1311\u001b[0m         \u001b[0;32melse\u001b[0m\u001b[0;34m:\u001b[0m\u001b[0;34m\u001b[0m\u001b[0m\n\u001b[0;32m-> 1312\u001b[0;31m             \u001b[0;32mreturn\u001b[0m \u001b[0mself\u001b[0m\u001b[0;34m.\u001b[0m\u001b[0m_getitem_axis\u001b[0m\u001b[0;34m(\u001b[0m\u001b[0mkey\u001b[0m\u001b[0;34m,\u001b[0m \u001b[0maxis\u001b[0m\u001b[0;34m=\u001b[0m\u001b[0;36m0\u001b[0m\u001b[0;34m)\u001b[0m\u001b[0;34m\u001b[0m\u001b[0m\n\u001b[0m\u001b[1;32m   1313\u001b[0m \u001b[0;34m\u001b[0m\u001b[0m\n\u001b[1;32m   1314\u001b[0m     \u001b[0;32mdef\u001b[0m \u001b[0m_getitem_axis\u001b[0m\u001b[0;34m(\u001b[0m\u001b[0mself\u001b[0m\u001b[0;34m,\u001b[0m \u001b[0mkey\u001b[0m\u001b[0;34m,\u001b[0m \u001b[0maxis\u001b[0m\u001b[0;34m=\u001b[0m\u001b[0;36m0\u001b[0m\u001b[0;34m)\u001b[0m\u001b[0;34m:\u001b[0m\u001b[0;34m\u001b[0m\u001b[0m\n",
      "\u001b[0;32m/Users/hexg/anaconda/lib/python2.7/site-packages/pandas/core/indexing.pyc\u001b[0m in \u001b[0;36m_getitem_axis\u001b[0;34m(self, key, axis)\u001b[0m\n\u001b[1;32m   1480\u001b[0m \u001b[0;34m\u001b[0m\u001b[0m\n\u001b[1;32m   1481\u001b[0m         \u001b[0;31m# fall thru to straight lookup\u001b[0m\u001b[0;34m\u001b[0m\u001b[0;34m\u001b[0m\u001b[0m\n\u001b[0;32m-> 1482\u001b[0;31m         \u001b[0mself\u001b[0m\u001b[0;34m.\u001b[0m\u001b[0m_has_valid_type\u001b[0m\u001b[0;34m(\u001b[0m\u001b[0mkey\u001b[0m\u001b[0;34m,\u001b[0m \u001b[0maxis\u001b[0m\u001b[0;34m)\u001b[0m\u001b[0;34m\u001b[0m\u001b[0m\n\u001b[0m\u001b[1;32m   1483\u001b[0m         \u001b[0;32mreturn\u001b[0m \u001b[0mself\u001b[0m\u001b[0;34m.\u001b[0m\u001b[0m_get_label\u001b[0m\u001b[0;34m(\u001b[0m\u001b[0mkey\u001b[0m\u001b[0;34m,\u001b[0m \u001b[0maxis\u001b[0m\u001b[0;34m=\u001b[0m\u001b[0maxis\u001b[0m\u001b[0;34m)\u001b[0m\u001b[0;34m\u001b[0m\u001b[0m\n\u001b[1;32m   1484\u001b[0m \u001b[0;34m\u001b[0m\u001b[0m\n",
      "\u001b[0;32m/Users/hexg/anaconda/lib/python2.7/site-packages/pandas/core/indexing.pyc\u001b[0m in \u001b[0;36m_has_valid_type\u001b[0;34m(self, key, axis)\u001b[0m\n\u001b[1;32m   1417\u001b[0m                 \u001b[0;32mraise\u001b[0m\u001b[0;34m\u001b[0m\u001b[0m\n\u001b[1;32m   1418\u001b[0m             \u001b[0;32mexcept\u001b[0m\u001b[0;34m:\u001b[0m\u001b[0;34m\u001b[0m\u001b[0m\n\u001b[0;32m-> 1419\u001b[0;31m                 \u001b[0merror\u001b[0m\u001b[0;34m(\u001b[0m\u001b[0;34m)\u001b[0m\u001b[0;34m\u001b[0m\u001b[0m\n\u001b[0m\u001b[1;32m   1420\u001b[0m \u001b[0;34m\u001b[0m\u001b[0m\n\u001b[1;32m   1421\u001b[0m         \u001b[0;32mreturn\u001b[0m \u001b[0mTrue\u001b[0m\u001b[0;34m\u001b[0m\u001b[0m\n",
      "\u001b[0;32m/Users/hexg/anaconda/lib/python2.7/site-packages/pandas/core/indexing.pyc\u001b[0m in \u001b[0;36merror\u001b[0;34m()\u001b[0m\n\u001b[1;32m   1404\u001b[0m                                     \"key\")\n\u001b[1;32m   1405\u001b[0m                 raise KeyError(\"the label [%s] is not in the [%s]\" %\n\u001b[0;32m-> 1406\u001b[0;31m                                (key, self.obj._get_axis_name(axis)))\n\u001b[0m\u001b[1;32m   1407\u001b[0m \u001b[0;34m\u001b[0m\u001b[0m\n\u001b[1;32m   1408\u001b[0m             \u001b[0;32mtry\u001b[0m\u001b[0;34m:\u001b[0m\u001b[0;34m\u001b[0m\u001b[0m\n",
      "\u001b[0;31mKeyError\u001b[0m: 'the label [2016-02-23] is not in the [index]'"
     ]
    }
   ],
   "source": [
    "newdf['AirTC_Avg'].loc['2016-02-23'].plot()\n",
    "newdf['AirTC_2_Avg'].loc['2016-02-23'].plot()\n",
    "plt.title(\"\")\n",
    "plt.ylabel('Temperature [C]')\n",
    "plt.legend(loc='upper right');"
   ]
  },
  {
   "cell_type": "markdown",
   "metadata": {
    "deletable": true,
    "editable": true
   },
   "source": [
    "#### We often are more interested in looking at a particular time range. Here is one way to select a particular time range:"
   ]
  },
  {
   "cell_type": "code",
   "execution_count": null,
   "metadata": {
    "collapsed": false,
    "deletable": true,
    "editable": true
   },
   "outputs": [],
   "source": [
    "# Choose a date period (such as a month)\n",
    "a_month = newdf['AirTC_Avg'].loc['2016-01']\n",
    "\n",
    "# Or grab the range between two specific days\n",
    "a_week =  newdf['AirTC_Avg'].loc[slice('2016-07-06', '2016-07-13')]\n",
    "\n",
    "# Create a figure with two subplots \n",
    "fig, axes = plt.subplots(ncols=2, nrows=1, figsize=(14,4))\n",
    "\n",
    "# Plot the month of data in the first subplot\n",
    "a_month.plot(ax=axes[0])\n",
    "axes[0].set_title('A month')\n",
    "\n",
    "# Plot the week of data in the second subplot\n",
    "a_week.plot(ax=axes[1])\n",
    "axes[1].set_title('A week')\n",
    "\n",
    "plt.show()"
   ]
  },
  {
   "cell_type": "markdown",
   "metadata": {
    "collapsed": true,
    "deletable": true,
    "editable": true
   },
   "source": [
    "#### You can also plot  2 variables with different y axies"
   ]
  },
  {
   "cell_type": "code",
   "execution_count": null,
   "metadata": {
    "collapsed": false,
    "deletable": true,
    "editable": true
   },
   "outputs": [],
   "source": [
    "newdf_short = newdf[['AirTC_Avg','CmCIR_Avg']]"
   ]
  },
  {
   "cell_type": "code",
   "execution_count": null,
   "metadata": {
    "collapsed": false,
    "deletable": true,
    "editable": true
   },
   "outputs": [],
   "source": [
    "newdf_short"
   ]
  },
  {
   "cell_type": "code",
   "execution_count": null,
   "metadata": {
    "collapsed": false,
    "deletable": true,
    "editable": true
   },
   "outputs": [],
   "source": [
    "# Plot on left and right axes\n",
    "newdf_short.plot(secondary_y='CmCIR_Avg', figsize=(12,4));"
   ]
  },
  {
   "cell_type": "markdown",
   "metadata": {
    "deletable": true,
    "editable": true
   },
   "source": [
    "#### Show monthly boxplots for the entire time series"
   ]
  },
  {
   "cell_type": "code",
   "execution_count": null,
   "metadata": {
    "collapsed": false,
    "deletable": true,
    "editable": true
   },
   "outputs": [],
   "source": [
    "var = 'CmGIR_Avg'\n",
    "newdf.boxplot(column=var, by=newdf.index.month, whis=[5, 95], sym='', figsize=(12,5))\n",
    "plt.xlabel('months')\n",
    "plt.ylabel(ds[var].units)\n",
    "plt.title(names[var]+' by month')\n",
    "plt.suptitle('');"
   ]
  },
  {
   "cell_type": "markdown",
   "metadata": {
    "deletable": true,
    "editable": true
   },
   "source": [
    "#### Plot the diurnal cycle for the entire time series"
   ]
  },
  {
   "cell_type": "code",
   "execution_count": null,
   "metadata": {
    "collapsed": false,
    "deletable": true,
    "editable": true
   },
   "outputs": [],
   "source": [
    "var = 'AirTC_Avg'\n",
    "newdf.boxplot(column=var, by=newdf.index.hour, whis=[5, 95], sym='', figsize=(12,5))\n",
    "plt.xlabel('Hour of day')\n",
    "plt.ylabel(ds[var].units)\n",
    "plt.title(names[var]+' by hour')\n",
    "plt.suptitle('');"
   ]
  },
  {
   "cell_type": "markdown",
   "metadata": {
    "deletable": true,
    "editable": true
   },
   "source": [
    "#### Plot the diurnal cycle for warm seasons"
   ]
  },
  {
   "cell_type": "code",
   "execution_count": null,
   "metadata": {
    "collapsed": false,
    "deletable": true,
    "editable": true
   },
   "outputs": [],
   "source": [
    "newdf_warm = newdf[(newdf.index.month >= 6) & (newdf.index.month <=8)]"
   ]
  },
  {
   "cell_type": "code",
   "execution_count": null,
   "metadata": {
    "collapsed": false,
    "deletable": true,
    "editable": true
   },
   "outputs": [],
   "source": [
    "var = 'AirTC_Avg'\n",
    "newdf_warm.boxplot(column=var, by=newdf_warm.index.hour, whis=[5, 95], sym='', figsize=(12,5))\n",
    "plt.xlabel('Hour of day')\n",
    "plt.ylabel(ds[var].units)\n",
    "plt.title(names[var]+' by hour')\n",
    "plt.suptitle('');"
   ]
  }
 ],
 "metadata": {
  "kernelspec": {
   "display_name": "Python 2",
   "language": "python",
   "name": "python2"
  },
  "language_info": {
   "codemirror_mode": {
    "name": "ipython",
    "version": 2
   },
   "file_extension": ".py",
   "mimetype": "text/x-python",
   "name": "python",
   "nbconvert_exporter": "python",
   "pygments_lexer": "ipython2",
   "version": "2.7.11"
  }
 },
 "nbformat": 4,
 "nbformat_minor": 0
}
