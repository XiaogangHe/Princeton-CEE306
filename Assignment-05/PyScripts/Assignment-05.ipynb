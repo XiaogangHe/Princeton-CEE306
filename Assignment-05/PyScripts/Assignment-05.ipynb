{
 "cells": [
  {
   "cell_type": "markdown",
   "metadata": {
    "deletable": true,
    "editable": true
   },
   "source": [
    "The `%matplotlib` magic command is used here to enable plotting in the current notebook. The `inline` backend will embed plots inside the notebook."
   ]
  },
  {
   "cell_type": "code",
   "execution_count": 1,
   "metadata": {
    "collapsed": true,
    "deletable": true,
    "editable": true
   },
   "outputs": [],
   "source": [
    "%matplotlib inline"
   ]
  },
  {
   "cell_type": "markdown",
   "metadata": {
    "deletable": true,
    "editable": true
   },
   "source": [
    "#### Import necessary modules"
   ]
  },
  {
   "cell_type": "code",
   "execution_count": 2,
   "metadata": {
    "collapsed": true,
    "deletable": true,
    "editable": true
   },
   "outputs": [],
   "source": [
    "import pandas as pd\n",
    "import matplotlib.pyplot as plt"
   ]
  },
  {
   "cell_type": "markdown",
   "metadata": {
    "deletable": true,
    "editable": true
   },
   "source": [
    "#### Read rainfall data: "
   ]
  },
  {
   "cell_type": "code",
   "execution_count": 3,
   "metadata": {
    "collapsed": false,
    "deletable": true,
    "editable": true
   },
   "outputs": [
    {
     "name": "stderr",
     "output_type": "stream",
     "text": [
      "/Users/hexg/anaconda/lib/python2.7/site-packages/ipykernel/__main__.py:3: SettingWithCopyWarning: \n",
      "A value is trying to be set on a copy of a slice from a DataFrame.\n",
      "Try using .loc[row_indexer,col_indexer] = value instead\n",
      "\n",
      "See the caveats in the documentation: http://pandas.pydata.org/pandas-docs/stable/indexing.html#indexing-view-versus-copy\n",
      "  app.launch_new_instance()\n"
     ]
    }
   ],
   "source": [
    "df1 = pd.read_csv('../Data/Apr2013_rain.txt', delim_whitespace=True, header=None, names=['Year', 'Month', 'Day', 'Hour', 'Minute', 'Rainfall'])\n",
    "df_rain = df1[['Rainfall']]\n",
    "df_rain['datetime'] = pd.to_datetime(df1[['Year', 'Month', 'Day', 'Hour', 'Minute']])\n",
    "df_rain = df_rain.set_index('datetime')"
   ]
  },
  {
   "cell_type": "code",
   "execution_count": 4,
   "metadata": {
    "collapsed": false
   },
   "outputs": [
    {
     "data": {
      "text/plain": [
       "datetime\n",
       "2013-04-01 00:00:00    0.000\n",
       "2013-04-01 00:05:00    0.000\n",
       "2013-04-01 00:10:00    0.000\n",
       "2013-04-01 00:15:00    0.254\n",
       "2013-04-01 00:20:00    0.000\n",
       "2013-04-01 00:25:00    0.000\n",
       "2013-04-01 00:30:00    0.000\n",
       "2013-04-01 00:35:00    0.000\n",
       "2013-04-01 00:40:00    0.000\n",
       "2013-04-01 00:45:00    0.000\n",
       "2013-04-01 00:50:00    0.000\n",
       "2013-04-01 00:55:00    0.254\n",
       "2013-04-01 01:00:00    0.000\n",
       "2013-04-01 01:05:00    0.000\n",
       "2013-04-01 01:10:00    0.000\n",
       "2013-04-01 01:15:00    0.000\n",
       "2013-04-01 01:20:00    0.000\n",
       "2013-04-01 01:25:00    0.000\n",
       "2013-04-01 01:30:00    0.254\n",
       "2013-04-01 01:35:00    0.000\n",
       "2013-04-01 01:40:00    0.000\n",
       "2013-04-01 01:45:00    0.000\n",
       "2013-04-01 01:50:00    0.000\n",
       "2013-04-01 01:55:00    0.000\n",
       "2013-04-01 02:00:00    0.000\n",
       "2013-04-01 02:05:00    0.000\n",
       "2013-04-01 02:10:00    0.000\n",
       "2013-04-01 02:15:00    0.000\n",
       "2013-04-01 02:20:00    0.000\n",
       "2013-04-01 02:25:00    0.000\n",
       "                       ...  \n",
       "2013-04-11 11:05:00    0.000\n",
       "2013-04-11 11:10:00    0.000\n",
       "2013-04-11 11:15:00    0.000\n",
       "2013-04-11 11:20:00    0.000\n",
       "2013-04-11 11:25:00    0.000\n",
       "2013-04-11 11:30:00    0.000\n",
       "2013-04-11 11:35:00    0.000\n",
       "2013-04-11 11:40:00    0.000\n",
       "2013-04-11 11:45:00    0.000\n",
       "2013-04-11 11:50:00    0.000\n",
       "2013-04-11 11:55:00    0.000\n",
       "2013-04-11 12:00:00    0.000\n",
       "2013-04-11 12:05:00    0.000\n",
       "2013-04-11 12:10:00    0.000\n",
       "2013-04-11 12:15:00    0.000\n",
       "2013-04-11 12:20:00    0.000\n",
       "2013-04-11 12:25:00    0.000\n",
       "2013-04-11 12:30:00    0.000\n",
       "2013-04-11 12:35:00    0.000\n",
       "2013-04-11 12:40:00    0.000\n",
       "2013-04-11 12:45:00    0.000\n",
       "2013-04-11 12:50:00    0.000\n",
       "2013-04-11 12:55:00    0.000\n",
       "2013-04-11 13:00:00    0.000\n",
       "2013-04-11 13:05:00    0.000\n",
       "2013-04-11 13:10:00    0.000\n",
       "2013-04-11 13:15:00    0.000\n",
       "2013-04-11 13:20:00    0.000\n",
       "2013-04-11 13:25:00    0.000\n",
       "2013-04-11 13:30:00    0.000\n",
       "Name: Rainfall, dtype: float64"
      ]
     },
     "execution_count": 4,
     "metadata": {},
     "output_type": "execute_result"
    }
   ],
   "source": [
    "df_rain['Rainfall']"
   ]
  },
  {
   "cell_type": "markdown",
   "metadata": {},
   "source": [
    "#### Time series plot of rainfall: "
   ]
  },
  {
   "cell_type": "code",
   "execution_count": 5,
   "metadata": {
    "collapsed": false
   },
   "outputs": [
    {
     "data": {
      "text/plain": [
       "<matplotlib.text.Text at 0x10bb33590>"
      ]
     },
     "execution_count": 5,
     "metadata": {},
     "output_type": "execute_result"
    },
    {
     "data": {
      "image/png": "[encoded data removed]",
      "text/plain": [
       "<matplotlib.figure.Figure at 0x10bac2390>"
      ]
     },
     "metadata": {},
     "output_type": "display_data"
    }
   ],
   "source": [
    "df_rain.plot()\n",
    "plt.ylabel('[mm]')"
   ]
  },
  {
   "cell_type": "markdown",
   "metadata": {},
   "source": [
    "#### Change time axis range: "
   ]
  },
  {
   "cell_type": "code",
   "execution_count": 6,
   "metadata": {
    "collapsed": false
   },
   "outputs": [
    {
     "data": {
      "text/plain": [
       "<matplotlib.text.Text at 0x10bbeda90>"
      ]
     },
     "execution_count": 6,
     "metadata": {},
     "output_type": "execute_result"
    },
    {
     "data": {
      "image/png": "[encoded data removed]",
      "text/plain": [
       "<matplotlib.figure.Figure at 0x10bb0fad0>"
      ]
     },
     "metadata": {},
     "output_type": "display_data"
    }
   ],
   "source": [
    "df_rain_sel = df_rain.loc['2013-4-1']    ### Only select Apr 1st\n",
    "df_rain_sel.plot()\n",
    "plt.ylabel('[mm]')"
   ]
  },
  {
   "cell_type": "markdown",
   "metadata": {},
   "source": [
    "#### Read discharge & soil moisture data: "
   ]
  },
  {
   "cell_type": "code",
   "execution_count": 7,
   "metadata": {
    "collapsed": false
   },
   "outputs": [],
   "source": [
    "df2 = pd.read_excel('../Data/soil_streamflow2013.xlsx', skiprows=3, names=['Timestamp', 'Discharge', 'VC_1', 'VC_5'])\n",
    "df2 = df2.set_index('Timestamp')"
   ]
  },
  {
   "cell_type": "markdown",
   "metadata": {},
   "source": [
    "#### Time series plot of soil moisture: "
   ]
  },
  {
   "cell_type": "code",
   "execution_count": 8,
   "metadata": {
    "collapsed": false
   },
   "outputs": [
    {
     "data": {
      "text/plain": [
       "<matplotlib.text.Text at 0x10fc69c10>"
      ]
     },
     "execution_count": 8,
     "metadata": {},
     "output_type": "execute_result"
    },
    {
     "data": {
      "image/png": "[encoded data removed]",
      "text/plain": [
       "<matplotlib.figure.Figure at 0x10fb8d850>"
      ]
     },
     "metadata": {},
     "output_type": "display_data"
    }
   ],
   "source": [
    "df2['VC_1'].plot()\n",
    "plt.title('Soil moisture at VC_1')\n",
    "plt.ylabel('[m3/m3]')"
   ]
  },
  {
   "cell_type": "markdown",
   "metadata": {},
   "source": [
    "#### Change time axis range: "
   ]
  },
  {
   "cell_type": "code",
   "execution_count": 9,
   "metadata": {
    "collapsed": false
   },
   "outputs": [
    {
     "data": {
      "text/plain": [
       "<matplotlib.text.Text at 0x10fbcdf90>"
      ]
     },
     "execution_count": 9,
     "metadata": {},
     "output_type": "execute_result"
    },
    {
     "data": {
      "image/png": "[encoded data removed]",
      "text/plain": [
       "<matplotlib.figure.Figure at 0x10fcc0590>"
      ]
     },
     "metadata": {},
     "output_type": "display_data"
    }
   ],
   "source": [
    "df2_sel = df2.loc['2013-4-1']    ### Only select Apr 1st\n",
    "df2_sel['VC_1'].plot()\n",
    "plt.title('Soil moisture at VC_1')\n",
    "plt.xlabel('Apr 1, 2013')\n",
    "plt.ylabel('[m3/m3]')"
   ]
  }
 ],
 "metadata": {
  "kernelspec": {
   "display_name": "Python 2",
   "language": "python",
   "name": "python2"
  },
  "language_info": {
   "codemirror_mode": {
    "name": "ipython",
    "version": 2
   },
   "file_extension": ".py",
   "mimetype": "text/x-python",
   "name": "python",
   "nbconvert_exporter": "python",
   "pygments_lexer": "ipython2",
   "version": "2.7.11"
  }
 },
 "nbformat": 4,
 "nbformat_minor": 0
}
