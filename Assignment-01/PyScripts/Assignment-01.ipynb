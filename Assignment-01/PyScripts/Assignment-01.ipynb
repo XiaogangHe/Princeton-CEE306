{
 "cells": [
  {
   "cell_type": "markdown",
   "metadata": {
    "deletable": true,
    "editable": true
   },
   "source": [
    "Author: Xiaogang He (hexg@princeton.edu), http://hydro.iis.u-tokyo.ac.jp/~hexg"
   ]
  },
  {
   "cell_type": "markdown",
   "metadata": {
    "deletable": true,
    "editable": true
   },
   "source": [
    "The `%matplotlib` magic command is used here to enable plotting in the current notebook. The `inline` backend will embed plots inside the notebook."
   ]
  },
  {
   "cell_type": "code",
   "execution_count": 1,
   "metadata": {
    "collapsed": true,
    "deletable": true,
    "editable": true
   },
   "outputs": [],
   "source": [
    "%matplotlib inline"
   ]
  },
  {
   "cell_type": "markdown",
   "metadata": {
    "deletable": true,
    "editable": true
   },
   "source": [
    "### Import necessary modules "
   ]
  },
  {
   "cell_type": "code",
   "execution_count": 2,
   "metadata": {
    "collapsed": true,
    "deletable": true,
    "editable": true
   },
   "outputs": [],
   "source": [
    "import numpy as np\n",
    "import pandas as pd\n",
    "import matplotlib.pyplot as plt\n",
    "from rpy2.robjects import r\n",
    "from rpy2.robjects.packages import importr\n",
    "from rpy2.robjects.vectors import FloatVector"
   ]
  },
  {
   "cell_type": "markdown",
   "metadata": {
    "deletable": true,
    "editable": true
   },
   "source": [
    "### Read USGS observations"
   ]
  },
  {
   "cell_type": "markdown",
   "metadata": {
    "deletable": true,
    "editable": true
   },
   "source": [
    "We will define a python function and use **pandas** to read the USGS peak discharge data (in standard text format) and assign the names for each column. "
   ]
  },
  {
   "cell_type": "code",
   "execution_count": 3,
   "metadata": {
    "collapsed": true,
    "deletable": true,
    "editable": true
   },
   "outputs": [],
   "source": [
    "def read_peak_discharge(gageID):\n",
    "    df = pd.read_csv('../Data/%s.txt' % (gageID), header=None, names=['Year', 'Month', 'Day', 'Discharge', 'Stage'])\n",
    "\n",
    "    return df"
   ]
  },
  {
   "cell_type": "markdown",
   "metadata": {
    "deletable": true,
    "editable": true
   },
   "source": [
    "Read the dataframe using the customed function:"
   ]
  },
  {
   "cell_type": "code",
   "execution_count": 4,
   "metadata": {
    "collapsed": true,
    "deletable": true,
    "editable": true
   },
   "outputs": [],
   "source": [
    "obs = read_peak_discharge('01401000')"
   ]
  },
  {
   "cell_type": "code",
   "execution_count": 5,
   "metadata": {
    "collapsed": false,
    "deletable": true,
    "editable": true
   },
   "outputs": [
    {
     "data": {
      "text/html": [
       "<div style=\"max-height:1000px;max-width:1500px;overflow:auto;\">\n",
       "<table border=\"1\" class=\"dataframe\">\n",
       "  <thead>\n",
       "    <tr style=\"text-align: right;\">\n",
       "      <th></th>\n",
       "      <th>Year</th>\n",
       "      <th>Month</th>\n",
       "      <th>Day</th>\n",
       "      <th>Discharge</th>\n",
       "      <th>Stage</th>\n",
       "    </tr>\n",
       "  </thead>\n",
       "  <tbody>\n",
       "    <tr>\n",
       "      <th>0 </th>\n",
       "      <td> 1953</td>\n",
       "      <td> 12</td>\n",
       "      <td> 14</td>\n",
       "      <td>  3000</td>\n",
       "      <td>  8.66</td>\n",
       "    </tr>\n",
       "    <tr>\n",
       "      <th>1 </th>\n",
       "      <td> 1955</td>\n",
       "      <td>  8</td>\n",
       "      <td> 13</td>\n",
       "      <td>  5130</td>\n",
       "      <td> 11.90</td>\n",
       "    </tr>\n",
       "    <tr>\n",
       "      <th>2 </th>\n",
       "      <td> 1955</td>\n",
       "      <td> 10</td>\n",
       "      <td> 15</td>\n",
       "      <td>  3420</td>\n",
       "      <td>  9.35</td>\n",
       "    </tr>\n",
       "    <tr>\n",
       "      <th>3 </th>\n",
       "      <td> 1957</td>\n",
       "      <td>  4</td>\n",
       "      <td>  5</td>\n",
       "      <td>  2260</td>\n",
       "      <td>  7.37</td>\n",
       "    </tr>\n",
       "    <tr>\n",
       "      <th>4 </th>\n",
       "      <td> 1958</td>\n",
       "      <td>  2</td>\n",
       "      <td> 28</td>\n",
       "      <td>  4150</td>\n",
       "      <td> 10.46</td>\n",
       "    </tr>\n",
       "    <tr>\n",
       "      <th>5 </th>\n",
       "      <td> 1959</td>\n",
       "      <td>  3</td>\n",
       "      <td>  6</td>\n",
       "      <td>  2460</td>\n",
       "      <td>  7.73</td>\n",
       "    </tr>\n",
       "    <tr>\n",
       "      <th>6 </th>\n",
       "      <td> 1960</td>\n",
       "      <td>  9</td>\n",
       "      <td> 12</td>\n",
       "      <td>  4400</td>\n",
       "      <td> 10.85</td>\n",
       "    </tr>\n",
       "    <tr>\n",
       "      <th>7 </th>\n",
       "      <td> 1961</td>\n",
       "      <td>  7</td>\n",
       "      <td> 29</td>\n",
       "      <td>  3480</td>\n",
       "      <td>  9.44</td>\n",
       "    </tr>\n",
       "    <tr>\n",
       "      <th>8 </th>\n",
       "      <td> 1962</td>\n",
       "      <td>  3</td>\n",
       "      <td> 12</td>\n",
       "      <td>  3520</td>\n",
       "      <td>  9.50</td>\n",
       "    </tr>\n",
       "    <tr>\n",
       "      <th>9 </th>\n",
       "      <td> 1963</td>\n",
       "      <td>  3</td>\n",
       "      <td>  6</td>\n",
       "      <td>  2120</td>\n",
       "      <td>  7.10</td>\n",
       "    </tr>\n",
       "    <tr>\n",
       "      <th>10</th>\n",
       "      <td> 1964</td>\n",
       "      <td>  1</td>\n",
       "      <td>  9</td>\n",
       "      <td>  3340</td>\n",
       "      <td>  9.22</td>\n",
       "    </tr>\n",
       "    <tr>\n",
       "      <th>11</th>\n",
       "      <td> 1965</td>\n",
       "      <td>  2</td>\n",
       "      <td>  8</td>\n",
       "      <td>  2280</td>\n",
       "      <td>  7.40</td>\n",
       "    </tr>\n",
       "    <tr>\n",
       "      <th>12</th>\n",
       "      <td> 1966</td>\n",
       "      <td>  2</td>\n",
       "      <td> 14</td>\n",
       "      <td>  2170</td>\n",
       "      <td>  7.20</td>\n",
       "    </tr>\n",
       "    <tr>\n",
       "      <th>13</th>\n",
       "      <td> 1967</td>\n",
       "      <td>  3</td>\n",
       "      <td>  7</td>\n",
       "      <td>  4120</td>\n",
       "      <td>   NaN</td>\n",
       "    </tr>\n",
       "    <tr>\n",
       "      <th>14</th>\n",
       "      <td> 1968</td>\n",
       "      <td>  5</td>\n",
       "      <td> 29</td>\n",
       "      <td>  3600</td>\n",
       "      <td>  9.81</td>\n",
       "    </tr>\n",
       "    <tr>\n",
       "      <th>15</th>\n",
       "      <td> 1969</td>\n",
       "      <td>  9</td>\n",
       "      <td>  4</td>\n",
       "      <td>  3480</td>\n",
       "      <td>  9.44</td>\n",
       "    </tr>\n",
       "    <tr>\n",
       "      <th>16</th>\n",
       "      <td> 1969</td>\n",
       "      <td> 12</td>\n",
       "      <td> 11</td>\n",
       "      <td>  3060</td>\n",
       "      <td>  8.76</td>\n",
       "    </tr>\n",
       "    <tr>\n",
       "      <th>17</th>\n",
       "      <td> 1971</td>\n",
       "      <td>  8</td>\n",
       "      <td> 28</td>\n",
       "      <td>  8960</td>\n",
       "      <td> 14.26</td>\n",
       "    </tr>\n",
       "    <tr>\n",
       "      <th>18</th>\n",
       "      <td> 1972</td>\n",
       "      <td>  6</td>\n",
       "      <td> 22</td>\n",
       "      <td>  2750</td>\n",
       "      <td>  8.25</td>\n",
       "    </tr>\n",
       "    <tr>\n",
       "      <th>19</th>\n",
       "      <td> 1973</td>\n",
       "      <td>  6</td>\n",
       "      <td> 22</td>\n",
       "      <td>  3670</td>\n",
       "      <td>  9.59</td>\n",
       "    </tr>\n",
       "    <tr>\n",
       "      <th>20</th>\n",
       "      <td> 1973</td>\n",
       "      <td> 12</td>\n",
       "      <td> 21</td>\n",
       "      <td>  4290</td>\n",
       "      <td> 10.29</td>\n",
       "    </tr>\n",
       "    <tr>\n",
       "      <th>21</th>\n",
       "      <td> 1975</td>\n",
       "      <td>  7</td>\n",
       "      <td> 14</td>\n",
       "      <td>  4980</td>\n",
       "      <td> 10.98</td>\n",
       "    </tr>\n",
       "    <tr>\n",
       "      <th>22</th>\n",
       "      <td> 1976</td>\n",
       "      <td>  1</td>\n",
       "      <td> 27</td>\n",
       "      <td>  2110</td>\n",
       "      <td>  7.19</td>\n",
       "    </tr>\n",
       "    <tr>\n",
       "      <th>23</th>\n",
       "      <td> 1977</td>\n",
       "      <td>  4</td>\n",
       "      <td>  5</td>\n",
       "      <td>  2890</td>\n",
       "      <td>  8.41</td>\n",
       "    </tr>\n",
       "    <tr>\n",
       "      <th>24</th>\n",
       "      <td> 1978</td>\n",
       "      <td>  1</td>\n",
       "      <td> 26</td>\n",
       "      <td>  3900</td>\n",
       "      <td>  9.88</td>\n",
       "    </tr>\n",
       "    <tr>\n",
       "      <th>25</th>\n",
       "      <td> 1979</td>\n",
       "      <td>  1</td>\n",
       "      <td> 25</td>\n",
       "      <td>  4410</td>\n",
       "      <td> 10.44</td>\n",
       "    </tr>\n",
       "    <tr>\n",
       "      <th>26</th>\n",
       "      <td> 1980</td>\n",
       "      <td>  3</td>\n",
       "      <td> 21</td>\n",
       "      <td>  3980</td>\n",
       "      <td>  9.95</td>\n",
       "    </tr>\n",
       "    <tr>\n",
       "      <th>27</th>\n",
       "      <td> 1981</td>\n",
       "      <td>  5</td>\n",
       "      <td> 12</td>\n",
       "      <td>  2430</td>\n",
       "      <td>  7.73</td>\n",
       "    </tr>\n",
       "    <tr>\n",
       "      <th>28</th>\n",
       "      <td> 1982</td>\n",
       "      <td>  1</td>\n",
       "      <td>  4</td>\n",
       "      <td>  3550</td>\n",
       "      <td>  9.39</td>\n",
       "    </tr>\n",
       "    <tr>\n",
       "      <th>29</th>\n",
       "      <td> 1983</td>\n",
       "      <td>  4</td>\n",
       "      <td> 16</td>\n",
       "      <td>  4220</td>\n",
       "      <td> 10.21</td>\n",
       "    </tr>\n",
       "    <tr>\n",
       "      <th>30</th>\n",
       "      <td> 1984</td>\n",
       "      <td>  7</td>\n",
       "      <td>  7</td>\n",
       "      <td>  5350</td>\n",
       "      <td> 11.32</td>\n",
       "    </tr>\n",
       "    <tr>\n",
       "      <th>31</th>\n",
       "      <td> 1985</td>\n",
       "      <td>  9</td>\n",
       "      <td> 27</td>\n",
       "      <td>  2500</td>\n",
       "      <td>  7.87</td>\n",
       "    </tr>\n",
       "    <tr>\n",
       "      <th>32</th>\n",
       "      <td> 1986</td>\n",
       "      <td>  4</td>\n",
       "      <td> 16</td>\n",
       "      <td>  3780</td>\n",
       "      <td>  9.69</td>\n",
       "    </tr>\n",
       "    <tr>\n",
       "      <th>33</th>\n",
       "      <td> 1987</td>\n",
       "      <td>  7</td>\n",
       "      <td>  3</td>\n",
       "      <td>  3680</td>\n",
       "      <td>  9.57</td>\n",
       "    </tr>\n",
       "    <tr>\n",
       "      <th>34</th>\n",
       "      <td> 1988</td>\n",
       "      <td>  1</td>\n",
       "      <td> 20</td>\n",
       "      <td>  2290</td>\n",
       "      <td>  7.47</td>\n",
       "    </tr>\n",
       "    <tr>\n",
       "      <th>35</th>\n",
       "      <td> 1989</td>\n",
       "      <td>  6</td>\n",
       "      <td> 10</td>\n",
       "      <td>  3120</td>\n",
       "      <td>  8.81</td>\n",
       "    </tr>\n",
       "    <tr>\n",
       "      <th>36</th>\n",
       "      <td> 1990</td>\n",
       "      <td>  5</td>\n",
       "      <td> 11</td>\n",
       "      <td>  2540</td>\n",
       "      <td>  7.95</td>\n",
       "    </tr>\n",
       "    <tr>\n",
       "      <th>37</th>\n",
       "      <td> 1991</td>\n",
       "      <td>  3</td>\n",
       "      <td>  4</td>\n",
       "      <td>  1920</td>\n",
       "      <td>  6.74</td>\n",
       "    </tr>\n",
       "    <tr>\n",
       "      <th>38</th>\n",
       "      <td> 1992</td>\n",
       "      <td>  6</td>\n",
       "      <td>  6</td>\n",
       "      <td>  3090</td>\n",
       "      <td>  8.76</td>\n",
       "    </tr>\n",
       "    <tr>\n",
       "      <th>39</th>\n",
       "      <td> 1992</td>\n",
       "      <td> 12</td>\n",
       "      <td> 11</td>\n",
       "      <td>  2870</td>\n",
       "      <td>  8.45</td>\n",
       "    </tr>\n",
       "    <tr>\n",
       "      <th>40</th>\n",
       "      <td> 1994</td>\n",
       "      <td>  1</td>\n",
       "      <td> 28</td>\n",
       "      <td>  5530</td>\n",
       "      <td> 11.48</td>\n",
       "    </tr>\n",
       "    <tr>\n",
       "      <th>41</th>\n",
       "      <td> 1995</td>\n",
       "      <td>  3</td>\n",
       "      <td>  9</td>\n",
       "      <td>  2100</td>\n",
       "      <td>  7.09</td>\n",
       "    </tr>\n",
       "    <tr>\n",
       "      <th>42</th>\n",
       "      <td> 1996</td>\n",
       "      <td>  1</td>\n",
       "      <td> 19</td>\n",
       "      <td>  7210</td>\n",
       "      <td> 12.27</td>\n",
       "    </tr>\n",
       "    <tr>\n",
       "      <th>43</th>\n",
       "      <td> 1996</td>\n",
       "      <td> 10</td>\n",
       "      <td> 19</td>\n",
       "      <td>  6290</td>\n",
       "      <td> 11.19</td>\n",
       "    </tr>\n",
       "    <tr>\n",
       "      <th>44</th>\n",
       "      <td> 1998</td>\n",
       "      <td>  4</td>\n",
       "      <td>  2</td>\n",
       "      <td>  4210</td>\n",
       "      <td>  8.69</td>\n",
       "    </tr>\n",
       "    <tr>\n",
       "      <th>45</th>\n",
       "      <td> 1999</td>\n",
       "      <td>  9</td>\n",
       "      <td> 16</td>\n",
       "      <td>  8780</td>\n",
       "      <td> 14.02</td>\n",
       "    </tr>\n",
       "    <tr>\n",
       "      <th>46</th>\n",
       "      <td> 2000</td>\n",
       "      <td>  8</td>\n",
       "      <td> 14</td>\n",
       "      <td>  2260</td>\n",
       "      <td>  6.08</td>\n",
       "    </tr>\n",
       "    <tr>\n",
       "      <th>47</th>\n",
       "      <td> 2001</td>\n",
       "      <td>  3</td>\n",
       "      <td> 30</td>\n",
       "      <td>  3050</td>\n",
       "      <td>  7.18</td>\n",
       "    </tr>\n",
       "    <tr>\n",
       "      <th>48</th>\n",
       "      <td> 2002</td>\n",
       "      <td>  5</td>\n",
       "      <td> 18</td>\n",
       "      <td>  2950</td>\n",
       "      <td>  7.04</td>\n",
       "    </tr>\n",
       "    <tr>\n",
       "      <th>49</th>\n",
       "      <td> 2003</td>\n",
       "      <td>  6</td>\n",
       "      <td>  4</td>\n",
       "      <td>  3440</td>\n",
       "      <td>  7.70</td>\n",
       "    </tr>\n",
       "    <tr>\n",
       "      <th>50</th>\n",
       "      <td> 2003</td>\n",
       "      <td> 12</td>\n",
       "      <td> 11</td>\n",
       "      <td>  4490</td>\n",
       "      <td>  9.06</td>\n",
       "    </tr>\n",
       "    <tr>\n",
       "      <th>51</th>\n",
       "      <td> 2005</td>\n",
       "      <td>  4</td>\n",
       "      <td>  2</td>\n",
       "      <td>  4030</td>\n",
       "      <td>  8.46</td>\n",
       "    </tr>\n",
       "    <tr>\n",
       "      <th>52</th>\n",
       "      <td> 2005</td>\n",
       "      <td> 10</td>\n",
       "      <td> 12</td>\n",
       "      <td>  5550</td>\n",
       "      <td> 10.32</td>\n",
       "    </tr>\n",
       "    <tr>\n",
       "      <th>53</th>\n",
       "      <td> 2007</td>\n",
       "      <td>  4</td>\n",
       "      <td> 15</td>\n",
       "      <td>  5760</td>\n",
       "      <td> 10.55</td>\n",
       "    </tr>\n",
       "    <tr>\n",
       "      <th>54</th>\n",
       "      <td> 2008</td>\n",
       "      <td>  2</td>\n",
       "      <td> 13</td>\n",
       "      <td>  4370</td>\n",
       "      <td>  8.90</td>\n",
       "    </tr>\n",
       "    <tr>\n",
       "      <th>55</th>\n",
       "      <td> 2009</td>\n",
       "      <td>  8</td>\n",
       "      <td> 22</td>\n",
       "      <td>  4680</td>\n",
       "      <td>  9.67</td>\n",
       "    </tr>\n",
       "    <tr>\n",
       "      <th>56</th>\n",
       "      <td> 2010</td>\n",
       "      <td>  3</td>\n",
       "      <td> 14</td>\n",
       "      <td>  5330</td>\n",
       "      <td> 10.45</td>\n",
       "    </tr>\n",
       "    <tr>\n",
       "      <th>57</th>\n",
       "      <td> 2011</td>\n",
       "      <td>  8</td>\n",
       "      <td> 28</td>\n",
       "      <td> 10600</td>\n",
       "      <td> 16.23</td>\n",
       "    </tr>\n",
       "    <tr>\n",
       "      <th>58</th>\n",
       "      <td> 2011</td>\n",
       "      <td> 12</td>\n",
       "      <td>  8</td>\n",
       "      <td>  3390</td>\n",
       "      <td>  8.73</td>\n",
       "    </tr>\n",
       "    <tr>\n",
       "      <th>59</th>\n",
       "      <td> 2013</td>\n",
       "      <td>  6</td>\n",
       "      <td>  8</td>\n",
       "      <td>  4150</td>\n",
       "      <td>  9.72</td>\n",
       "    </tr>\n",
       "  </tbody>\n",
       "</table>\n",
       "</div>"
      ],
      "text/plain": [
       "    Year  Month  Day  Discharge  Stage\n",
       "0   1953     12   14       3000   8.66\n",
       "1   1955      8   13       5130  11.90\n",
       "2   1955     10   15       3420   9.35\n",
       "3   1957      4    5       2260   7.37\n",
       "4   1958      2   28       4150  10.46\n",
       "5   1959      3    6       2460   7.73\n",
       "6   1960      9   12       4400  10.85\n",
       "7   1961      7   29       3480   9.44\n",
       "8   1962      3   12       3520   9.50\n",
       "9   1963      3    6       2120   7.10\n",
       "10  1964      1    9       3340   9.22\n",
       "11  1965      2    8       2280   7.40\n",
       "12  1966      2   14       2170   7.20\n",
       "13  1967      3    7       4120    NaN\n",
       "14  1968      5   29       3600   9.81\n",
       "15  1969      9    4       3480   9.44\n",
       "16  1969     12   11       3060   8.76\n",
       "17  1971      8   28       8960  14.26\n",
       "18  1972      6   22       2750   8.25\n",
       "19  1973      6   22       3670   9.59\n",
       "20  1973     12   21       4290  10.29\n",
       "21  1975      7   14       4980  10.98\n",
       "22  1976      1   27       2110   7.19\n",
       "23  1977      4    5       2890   8.41\n",
       "24  1978      1   26       3900   9.88\n",
       "25  1979      1   25       4410  10.44\n",
       "26  1980      3   21       3980   9.95\n",
       "27  1981      5   12       2430   7.73\n",
       "28  1982      1    4       3550   9.39\n",
       "29  1983      4   16       4220  10.21\n",
       "30  1984      7    7       5350  11.32\n",
       "31  1985      9   27       2500   7.87\n",
       "32  1986      4   16       3780   9.69\n",
       "33  1987      7    3       3680   9.57\n",
       "34  1988      1   20       2290   7.47\n",
       "35  1989      6   10       3120   8.81\n",
       "36  1990      5   11       2540   7.95\n",
       "37  1991      3    4       1920   6.74\n",
       "38  1992      6    6       3090   8.76\n",
       "39  1992     12   11       2870   8.45\n",
       "40  1994      1   28       5530  11.48\n",
       "41  1995      3    9       2100   7.09\n",
       "42  1996      1   19       7210  12.27\n",
       "43  1996     10   19       6290  11.19\n",
       "44  1998      4    2       4210   8.69\n",
       "45  1999      9   16       8780  14.02\n",
       "46  2000      8   14       2260   6.08\n",
       "47  2001      3   30       3050   7.18\n",
       "48  2002      5   18       2950   7.04\n",
       "49  2003      6    4       3440   7.70\n",
       "50  2003     12   11       4490   9.06\n",
       "51  2005      4    2       4030   8.46\n",
       "52  2005     10   12       5550  10.32\n",
       "53  2007      4   15       5760  10.55\n",
       "54  2008      2   13       4370   8.90\n",
       "55  2009      8   22       4680   9.67\n",
       "56  2010      3   14       5330  10.45\n",
       "57  2011      8   28      10600  16.23\n",
       "58  2011     12    8       3390   8.73\n",
       "59  2013      6    8       4150   9.72"
      ]
     },
     "execution_count": 5,
     "metadata": {},
     "output_type": "execute_result"
    }
   ],
   "source": [
    "obs"
   ]
  },
  {
   "cell_type": "markdown",
   "metadata": {
    "deletable": true,
    "editable": true
   },
   "source": [
    "Get the date information and convert the calendar year to water year (Oct-Apr):"
   ]
  },
  {
   "cell_type": "code",
   "execution_count": 6,
   "metadata": {
    "collapsed": false,
    "deletable": true,
    "editable": true
   },
   "outputs": [],
   "source": [
    "year = obs['Year']\n",
    "month = obs['Month']\n",
    "waterYear=[year[i]+1 if month[i]>9 else year[i] for i in range(len(year))]"
   ]
  },
  {
   "cell_type": "code",
   "execution_count": 7,
   "metadata": {
    "collapsed": false,
    "deletable": true,
    "editable": true
   },
   "outputs": [],
   "source": [
    "peak = obs['Discharge']"
   ]
  },
  {
   "cell_type": "markdown",
   "metadata": {
    "deletable": true,
    "editable": true
   },
   "source": [
    "### Plot annual peak discharge observations"
   ]
  },
  {
   "cell_type": "markdown",
   "metadata": {
    "deletable": true,
    "editable": true
   },
   "source": [
    "We will use matplotlib for basic plots."
   ]
  },
  {
   "cell_type": "code",
   "execution_count": 8,
   "metadata": {
    "collapsed": false,
    "deletable": true,
    "editable": true
   },
   "outputs": [
    {
     "data": {
      "text/plain": [
       "(0, 60)"
      ]
     },
     "execution_count": 8,
     "metadata": {},
     "output_type": "execute_result"
    },
    {
     "data": {
      "image/png": "[encoded data removed]",
      "text/plain": [
       "<matplotlib.figure.Figure at 0x110bb1790>"
      ]
     },
     "metadata": {},
     "output_type": "display_data"
    }
   ],
   "source": [
    "plt.scatter(range(len(peak)), peak)\n",
    "plt.ylabel('Discharge [cfs]')\n",
    "plt.xticks(range(len(year))[::5], waterYear[::5])\n",
    "plt.xlim([0,len(peak)])"
   ]
  },
  {
   "cell_type": "markdown",
   "metadata": {
    "deletable": true,
    "editable": true
   },
   "source": [
    "## Use rpy2 to access R from within python"
   ]
  },
  {
   "cell_type": "markdown",
   "metadata": {
    "deletable": true,
    "editable": true
   },
   "source": [
    "### Convert the format from python to R"
   ]
  },
  {
   "cell_type": "code",
   "execution_count": 9,
   "metadata": {
    "collapsed": false,
    "deletable": true,
    "editable": true
   },
   "outputs": [
    {
     "data": {
      "text/plain": [
       "R object with classes: ('numeric',) mapped to:\n",
       "<FloatVector - Python:0x113f76dd0 / R:0x1003bb610>\n",
       "[3000.000000, 5130.000000, 3420.000000, ..., 10600.000000, 3390.000000, 4150.000000]"
      ]
     },
     "execution_count": 9,
     "metadata": {},
     "output_type": "execute_result"
    }
   ],
   "source": [
    "peak = FloatVector(peak)\n",
    "r.assign('peak', peak)"
   ]
  },
  {
   "cell_type": "markdown",
   "metadata": {
    "deletable": true,
    "editable": true
   },
   "source": [
    "### Test for trend in annual peak data"
   ]
  },
  {
   "cell_type": "markdown",
   "metadata": {
    "deletable": true,
    "editable": true
   },
   "source": [
    "MannKendall test is used to detect monotonic trend based on Kendall rank correaltion. We need to import the R package `Kendall` at first."
   ]
  },
  {
   "cell_type": "code",
   "execution_count": 10,
   "metadata": {
    "collapsed": false,
    "deletable": true,
    "editable": true
   },
   "outputs": [
    {
     "name": "stdout",
     "output_type": "stream",
     "text": [
      "tau = 0.197, 2-sided pvalue =0.026442\n",
      "\n"
     ]
    }
   ],
   "source": [
    "importr('Kendall')\n",
    "print r(\"MannKendall(peak)\")"
   ]
  },
  {
   "cell_type": "markdown",
   "metadata": {
    "deletable": true,
    "editable": true
   },
   "source": [
    "### Test for change point in annual peak data"
   ]
  },
  {
   "cell_type": "markdown",
   "metadata": {
    "deletable": true,
    "editable": true
   },
   "source": [
    "We will use `strucchange` package and call its `breakpoints` function to detect the changing point."
   ]
  },
  {
   "cell_type": "code",
   "execution_count": 11,
   "metadata": {
    "collapsed": false,
    "deletable": true,
    "editable": true
   },
   "outputs": [
    {
     "name": "stdout",
     "output_type": "stream",
     "text": [
      "[1] 42\n",
      "\n"
     ]
    }
   ],
   "source": [
    "importr('strucchange')\n",
    "r(\"bp.peak <- breakpoints(peak ~ 1)\")\n",
    "print r(\"bp.peak$breakpoints\")"
   ]
  },
  {
   "cell_type": "markdown",
   "metadata": {
    "deletable": true,
    "editable": true
   },
   "source": [
    "###  Calculate the return period"
   ]
  },
  {
   "cell_type": "code",
   "execution_count": 12,
   "metadata": {
    "collapsed": true,
    "deletable": true,
    "editable": true
   },
   "outputs": [],
   "source": [
    "def calculate_return_period(EVD, rp):\n",
    "\n",
    "    \"\"\"\n",
    "    This is a function to calculate the return level of flood peaks using GEV and Gumbel\n",
    "    \n",
    "    Args:\n",
    "        :EVD (str): extreme value distribution, e.g., 'GEV' or 'Gumbel'\n",
    "        :rp (int): return period, e.g., 10, 20, 50, 100\n",
    "    \n",
    "    \"\"\"\n",
    "    \n",
    "    importr('ismev')\n",
    "    r.assign('rp', rp)\n",
    "\n",
    "    if EVD == 'GEV':\n",
    "        r(\"fit.obj <- gev.fit(peak)\")            # Maximum-likelihood fitting for the GEV distribution\n",
    "        r(\"pars <- fit.obj$mle\")                 # Return the GEV parameters (location, scale and shape) \n",
    "        rl = r(\"gevq(fit.obj$mle, 1./rp)\")[0]    # Calculate the quantile of GEV distribution given the exceedence probability\n",
    "        r.pdf(file='./%s_diag.pdf' % (EVD), width=8, height=8)\n",
    "        r(\"gev.diag(fit.obj)\")                   # Produces diagnostic plots for GEV models using the output of the function gev.fit\n",
    "        r(\"dev.off()\")\n",
    "    elif EVD == 'Gumbel':\n",
    "        r(\"fit.obj <- gum.fit(peak)\")\n",
    "        r(\"pars <- fit.obj$mle\")\n",
    "        rl = r(\"gum.q(1.0/rp, pars[1], pars[2])\")[0]\n",
    "        r.pdf(file='./%s_diag.pdf' % (EVD), width=8, height=8)\n",
    "        r(\"gum.diag(fit.obj)\")\n",
    "        r(\"dev.off()\")\n",
    "\n",
    "    return rl"
   ]
  },
  {
   "cell_type": "markdown",
   "metadata": {
    "deletable": true,
    "editable": true
   },
   "source": [
    "If we want to get the **100**-year flood peak from the **GEV** distribution, we can just:"
   ]
  },
  {
   "cell_type": "code",
   "execution_count": 13,
   "metadata": {
    "collapsed": false,
    "deletable": true,
    "editable": true
   },
   "outputs": [
    {
     "name": "stdout",
     "output_type": "stream",
     "text": [
      "$conv\n",
      "[1] 0\n",
      "\n",
      "$nllh\n",
      "[1] 516.8577\n",
      "\n",
      "$mle\n",
      "[1] 3134.2030365 1011.3624690    0.2062548\n",
      "\n",
      "$se\n",
      "[1] 152.4992884 122.4542309   0.1233884\n",
      "\n",
      "10894.4998374\n"
     ]
    }
   ],
   "source": [
    "rl_gev = calculate_return_period('GEV', 100)\n",
    "print rl_gev"
   ]
  },
  {
   "cell_type": "markdown",
   "metadata": {
    "deletable": true,
    "editable": true
   },
   "source": [
    "Similarly, if we want to get the **100**-year flood peak from the **Gumbel** distribution, we just need to change the first argument in the function:"
   ]
  },
  {
   "cell_type": "code",
   "execution_count": 14,
   "metadata": {
    "collapsed": false,
    "deletable": true,
    "editable": true
   },
   "outputs": [
    {
     "name": "stdout",
     "output_type": "stream",
     "text": [
      "$conv\n",
      "[1] 0\n",
      "\n",
      "$nllh\n",
      "[1] 518.8994\n",
      "\n",
      "$mle\n",
      "[1] 3254.967 1120.662\n",
      "\n",
      "$se\n",
      "[1] 151.2473 118.3372\n",
      "\n",
      "8410.1796258\n"
     ]
    }
   ],
   "source": [
    "rl_gum = calculate_return_period('Gumbel', 100)\n",
    "print rl_gum"
   ]
  }
 ],
 "metadata": {
  "kernelspec": {
   "display_name": "Python 2",
   "language": "python",
   "name": "python2"
  },
  "language_info": {
   "codemirror_mode": {
    "name": "ipython",
    "version": 2
   },
   "file_extension": ".py",
   "mimetype": "text/x-python",
   "name": "python",
   "nbconvert_exporter": "python",
   "pygments_lexer": "ipython2",
   "version": "2.7.11"
  }
 },
 "nbformat": 4,
 "nbformat_minor": 2
}
