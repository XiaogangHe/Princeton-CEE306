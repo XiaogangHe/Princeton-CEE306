{
 "cells": [
  {
   "cell_type": "markdown",
   "metadata": {
    "deletable": true,
    "editable": true
   },
   "source": [
    "Author: Xiaogang He (hexg@princeton.edu), http://hydro.iis.u-tokyo.ac.jp/~hexg"
   ]
  },
  {
   "cell_type": "markdown",
   "metadata": {
    "deletable": true,
    "editable": true
   },
   "source": [
    "The `%matplotlib` magic command is used here to enable plotting in the current notebook. The `inline` backend will embed plots inside the notebook."
   ]
  },
  {
   "cell_type": "code",
   "execution_count": 1,
   "metadata": {
    "collapsed": true,
    "deletable": true,
    "editable": true
   },
   "outputs": [],
   "source": [
    "%matplotlib inline"
   ]
  },
  {
   "cell_type": "markdown",
   "metadata": {
    "deletable": true,
    "editable": true
   },
   "source": [
    "### Import necessary modules "
   ]
  },
  {
   "cell_type": "code",
   "execution_count": 2,
   "metadata": {
    "collapsed": true,
    "deletable": true,
    "editable": true
   },
   "outputs": [],
   "source": [
    "import numpy as np\n",
    "import pandas as pd\n",
    "import matplotlib.pyplot as plt\n",
    "from rpy2.robjects import r\n",
    "from rpy2.robjects.packages import importr\n",
    "from rpy2.robjects.vectors import FloatVector"
   ]
  },
  {
   "cell_type": "markdown",
   "metadata": {
    "deletable": true,
    "editable": true
   },
   "source": [
    "### Read USGS observations"
   ]
  },
  {
   "cell_type": "markdown",
   "metadata": {
    "deletable": true,
    "editable": true
   },
   "source": [
    "We will define a python function and use **pandas** to read the USGS peak discharge data (in standard text format) and assign the names for each column. "
   ]
  },
  {
   "cell_type": "code",
   "execution_count": 3,
   "metadata": {
    "collapsed": true,
    "deletable": true,
    "editable": true
   },
   "outputs": [],
   "source": [
    "def read_peak_discharge(gageID):\n",
    "    df = pd.read_csv('../Data/%s.txt' % (gageID), header=None, names=['Year', 'Month', 'Day', 'Discharge', 'Stage'])\n",
    "\n",
    "    return df"
   ]
  },
  {
   "cell_type": "markdown",
   "metadata": {
    "deletable": true,
    "editable": true
   },
   "source": [
    "Read the dataframe using the customed function:"
   ]
  },
  {
   "cell_type": "code",
   "execution_count": 4,
   "metadata": {
    "collapsed": true,
    "deletable": true,
    "editable": true
   },
   "outputs": [],
   "source": [
    "obs = read_peak_discharge('01401000')"
   ]
  },
  {
   "cell_type": "code",
   "execution_count": 5,
   "metadata": {
    "collapsed": false,
    "deletable": true,
    "editable": true
   },
   "outputs": [
    {
     "data": {
      "text/html": [
       "<div style=\"max-height:1000px;max-width:1500px;overflow:auto;\">\n",
       "<table border=\"1\" class=\"dataframe\">\n",
       "  <thead>\n",
       "    <tr style=\"text-align: right;\">\n",
       "      <th></th>\n",
       "      <th>Year</th>\n",
       "      <th>Month</th>\n",
       "      <th>Day</th>\n",
       "      <th>Discharge</th>\n",
       "      <th>Stage</th>\n",
       "    </tr>\n",
       "  </thead>\n",
       "  <tbody>\n",
       "    <tr>\n",
       "      <th>0  </th>\n",
       "      <td> 1897</td>\n",
       "      <td> 12</td>\n",
       "      <td> 16</td>\n",
       "      <td>  72800</td>\n",
       "      <td>   NaN</td>\n",
       "    </tr>\n",
       "    <tr>\n",
       "      <th>1  </th>\n",
       "      <td> 1899</td>\n",
       "      <td>  3</td>\n",
       "      <td>  7</td>\n",
       "      <td>  69200</td>\n",
       "      <td>   NaN</td>\n",
       "    </tr>\n",
       "    <tr>\n",
       "      <th>2  </th>\n",
       "      <td> 1900</td>\n",
       "      <td>  3</td>\n",
       "      <td>  2</td>\n",
       "      <td> 104000</td>\n",
       "      <td>   NaN</td>\n",
       "    </tr>\n",
       "    <tr>\n",
       "      <th>3  </th>\n",
       "      <td> 1901</td>\n",
       "      <td>  3</td>\n",
       "      <td> 22</td>\n",
       "      <td>  77600</td>\n",
       "      <td>   NaN</td>\n",
       "    </tr>\n",
       "    <tr>\n",
       "      <th>4  </th>\n",
       "      <td> 1902</td>\n",
       "      <td>  3</td>\n",
       "      <td>  2</td>\n",
       "      <td> 214000</td>\n",
       "      <td> 23.60</td>\n",
       "    </tr>\n",
       "    <tr>\n",
       "      <th>5  </th>\n",
       "      <td> 1903</td>\n",
       "      <td>  3</td>\n",
       "      <td>  1</td>\n",
       "      <td> 134000</td>\n",
       "      <td>   NaN</td>\n",
       "    </tr>\n",
       "    <tr>\n",
       "      <th>6  </th>\n",
       "      <td> 1903</td>\n",
       "      <td> 10</td>\n",
       "      <td> 11</td>\n",
       "      <td> 295000</td>\n",
       "      <td> 28.50</td>\n",
       "    </tr>\n",
       "    <tr>\n",
       "      <th>7  </th>\n",
       "      <td> 1905</td>\n",
       "      <td>  3</td>\n",
       "      <td> 28</td>\n",
       "      <td>  88500</td>\n",
       "      <td>   NaN</td>\n",
       "    </tr>\n",
       "    <tr>\n",
       "      <th>8  </th>\n",
       "      <td> 1906</td>\n",
       "      <td>  4</td>\n",
       "      <td> 16</td>\n",
       "      <td> 112000</td>\n",
       "      <td>   NaN</td>\n",
       "    </tr>\n",
       "    <tr>\n",
       "      <th>9  </th>\n",
       "      <td> 1907</td>\n",
       "      <td>  1</td>\n",
       "      <td> 26</td>\n",
       "      <td>    NaN</td>\n",
       "      <td> 16.80</td>\n",
       "    </tr>\n",
       "    <tr>\n",
       "      <th>10 </th>\n",
       "      <td> 1907</td>\n",
       "      <td> 12</td>\n",
       "      <td> 12</td>\n",
       "      <td>    NaN</td>\n",
       "      <td> 18.40</td>\n",
       "    </tr>\n",
       "    <tr>\n",
       "      <th>11 </th>\n",
       "      <td> 1909</td>\n",
       "      <td>  2</td>\n",
       "      <td> 21</td>\n",
       "      <td>    NaN</td>\n",
       "      <td> 17.70</td>\n",
       "    </tr>\n",
       "    <tr>\n",
       "      <th>12 </th>\n",
       "      <td> 1910</td>\n",
       "      <td>  4</td>\n",
       "      <td> 23</td>\n",
       "      <td>    NaN</td>\n",
       "      <td> 18.40</td>\n",
       "    </tr>\n",
       "    <tr>\n",
       "      <th>13 </th>\n",
       "      <td> 1911</td>\n",
       "      <td>  1</td>\n",
       "      <td>  5</td>\n",
       "      <td>    NaN</td>\n",
       "      <td> 15.60</td>\n",
       "    </tr>\n",
       "    <tr>\n",
       "      <th>14 </th>\n",
       "      <td> 1912</td>\n",
       "      <td>  3</td>\n",
       "      <td> 16</td>\n",
       "      <td>    NaN</td>\n",
       "      <td> 18.70</td>\n",
       "    </tr>\n",
       "    <tr>\n",
       "      <th>15 </th>\n",
       "      <td> 1913</td>\n",
       "      <td>  3</td>\n",
       "      <td> 28</td>\n",
       "      <td> 160000</td>\n",
       "      <td> 21.10</td>\n",
       "    </tr>\n",
       "    <tr>\n",
       "      <th>16 </th>\n",
       "      <td> 1914</td>\n",
       "      <td>  3</td>\n",
       "      <td> 29</td>\n",
       "      <td> 143000</td>\n",
       "      <td> 20.20</td>\n",
       "    </tr>\n",
       "    <tr>\n",
       "      <th>17 </th>\n",
       "      <td> 1915</td>\n",
       "      <td>  2</td>\n",
       "      <td> 26</td>\n",
       "      <td>  85000</td>\n",
       "      <td>   NaN</td>\n",
       "    </tr>\n",
       "    <tr>\n",
       "      <th>18 </th>\n",
       "      <td> 1916</td>\n",
       "      <td>  4</td>\n",
       "      <td>  3</td>\n",
       "      <td>  93800</td>\n",
       "      <td> 17.30</td>\n",
       "    </tr>\n",
       "    <tr>\n",
       "      <th>19 </th>\n",
       "      <td> 1917</td>\n",
       "      <td>  3</td>\n",
       "      <td> 29</td>\n",
       "      <td>  90600</td>\n",
       "      <td> 17.00</td>\n",
       "    </tr>\n",
       "    <tr>\n",
       "      <th>20 </th>\n",
       "      <td> 1917</td>\n",
       "      <td> 10</td>\n",
       "      <td> 31</td>\n",
       "      <td>  89100</td>\n",
       "      <td> 16.90</td>\n",
       "    </tr>\n",
       "    <tr>\n",
       "      <th>21 </th>\n",
       "      <td> 1919</td>\n",
       "      <td>  7</td>\n",
       "      <td> 22</td>\n",
       "      <td>  69200</td>\n",
       "      <td> 15.60</td>\n",
       "    </tr>\n",
       "    <tr>\n",
       "      <th>22 </th>\n",
       "      <td> 1920</td>\n",
       "      <td>  3</td>\n",
       "      <td> 14</td>\n",
       "      <td> 121000</td>\n",
       "      <td> 19.00</td>\n",
       "    </tr>\n",
       "    <tr>\n",
       "      <th>23 </th>\n",
       "      <td> 1921</td>\n",
       "      <td>  3</td>\n",
       "      <td> 11</td>\n",
       "      <td> 108000</td>\n",
       "      <td> 18.20</td>\n",
       "    </tr>\n",
       "    <tr>\n",
       "      <th>24 </th>\n",
       "      <td> 1921</td>\n",
       "      <td> 11</td>\n",
       "      <td> 30</td>\n",
       "      <td> 105000</td>\n",
       "      <td> 18.00</td>\n",
       "    </tr>\n",
       "    <tr>\n",
       "      <th>25 </th>\n",
       "      <td> 1923</td>\n",
       "      <td>  3</td>\n",
       "      <td> 24</td>\n",
       "      <td>  74800</td>\n",
       "      <td> 16.00</td>\n",
       "    </tr>\n",
       "    <tr>\n",
       "      <th>26 </th>\n",
       "      <td> 1924</td>\n",
       "      <td>  4</td>\n",
       "      <td>  8</td>\n",
       "      <td> 132000</td>\n",
       "      <td> 19.60</td>\n",
       "    </tr>\n",
       "    <tr>\n",
       "      <th>27 </th>\n",
       "      <td> 1925</td>\n",
       "      <td>  2</td>\n",
       "      <td> 13</td>\n",
       "      <td> 154000</td>\n",
       "      <td> 20.80</td>\n",
       "    </tr>\n",
       "    <tr>\n",
       "      <th>28 </th>\n",
       "      <td> 1926</td>\n",
       "      <td>  4</td>\n",
       "      <td> 10</td>\n",
       "      <td>  48100</td>\n",
       "      <td> 13.97</td>\n",
       "    </tr>\n",
       "    <tr>\n",
       "      <th>29 </th>\n",
       "      <td> 1926</td>\n",
       "      <td> 11</td>\n",
       "      <td> 18</td>\n",
       "      <td> 123000</td>\n",
       "      <td> 19.07</td>\n",
       "    </tr>\n",
       "    <tr>\n",
       "      <th>...</th>\n",
       "      <td>...</td>\n",
       "      <td>...</td>\n",
       "      <td>...</td>\n",
       "      <td>...</td>\n",
       "      <td>...</td>\n",
       "    </tr>\n",
       "    <tr>\n",
       "      <th>87 </th>\n",
       "      <td> 1985</td>\n",
       "      <td>  9</td>\n",
       "      <td> 28</td>\n",
       "      <td>  87200</td>\n",
       "      <td> 16.68</td>\n",
       "    </tr>\n",
       "    <tr>\n",
       "      <th>88 </th>\n",
       "      <td> 1986</td>\n",
       "      <td>  3</td>\n",
       "      <td> 16</td>\n",
       "      <td> 140000</td>\n",
       "      <td> 20.22</td>\n",
       "    </tr>\n",
       "    <tr>\n",
       "      <th>89 </th>\n",
       "      <td> 1987</td>\n",
       "      <td>  4</td>\n",
       "      <td>  6</td>\n",
       "      <td>  90700</td>\n",
       "      <td> 17.43</td>\n",
       "    </tr>\n",
       "    <tr>\n",
       "      <th>90 </th>\n",
       "      <td> 1988</td>\n",
       "      <td>  3</td>\n",
       "      <td> 28</td>\n",
       "      <td>  40600</td>\n",
       "      <td> 13.37</td>\n",
       "    </tr>\n",
       "    <tr>\n",
       "      <th>91 </th>\n",
       "      <td> 1989</td>\n",
       "      <td>  5</td>\n",
       "      <td>  7</td>\n",
       "      <td>  83300</td>\n",
       "      <td> 16.95</td>\n",
       "    </tr>\n",
       "    <tr>\n",
       "      <th>92 </th>\n",
       "      <td> 1989</td>\n",
       "      <td> 10</td>\n",
       "      <td> 21</td>\n",
       "      <td>  76700</td>\n",
       "      <td> 16.45</td>\n",
       "    </tr>\n",
       "    <tr>\n",
       "      <th>93 </th>\n",
       "      <td> 1990</td>\n",
       "      <td> 11</td>\n",
       "      <td> 12</td>\n",
       "      <td>  64900</td>\n",
       "      <td> 15.50</td>\n",
       "    </tr>\n",
       "    <tr>\n",
       "      <th>94 </th>\n",
       "      <td> 1992</td>\n",
       "      <td>  6</td>\n",
       "      <td>  6</td>\n",
       "      <td>  46800</td>\n",
       "      <td> 13.98</td>\n",
       "    </tr>\n",
       "    <tr>\n",
       "      <th>95 </th>\n",
       "      <td> 1993</td>\n",
       "      <td>  4</td>\n",
       "      <td>  2</td>\n",
       "      <td> 109000</td>\n",
       "      <td> 18.63</td>\n",
       "    </tr>\n",
       "    <tr>\n",
       "      <th>96 </th>\n",
       "      <td> 1994</td>\n",
       "      <td>  4</td>\n",
       "      <td> 15</td>\n",
       "      <td>  75600</td>\n",
       "      <td> 16.36</td>\n",
       "    </tr>\n",
       "    <tr>\n",
       "      <th>97 </th>\n",
       "      <td> 1995</td>\n",
       "      <td>  3</td>\n",
       "      <td> 10</td>\n",
       "      <td>  49300</td>\n",
       "      <td> 14.20</td>\n",
       "    </tr>\n",
       "    <tr>\n",
       "      <th>98 </th>\n",
       "      <td> 1996</td>\n",
       "      <td>  1</td>\n",
       "      <td> 20</td>\n",
       "      <td> 179000</td>\n",
       "      <td> 22.20</td>\n",
       "    </tr>\n",
       "    <tr>\n",
       "      <th>99 </th>\n",
       "      <td> 1996</td>\n",
       "      <td> 12</td>\n",
       "      <td>  3</td>\n",
       "      <td> 101000</td>\n",
       "      <td> 17.87</td>\n",
       "    </tr>\n",
       "    <tr>\n",
       "      <th>100</th>\n",
       "      <td> 1998</td>\n",
       "      <td>  5</td>\n",
       "      <td> 12</td>\n",
       "      <td>  69500</td>\n",
       "      <td> 15.67</td>\n",
       "    </tr>\n",
       "    <tr>\n",
       "      <th>101</th>\n",
       "      <td> 1999</td>\n",
       "      <td>  9</td>\n",
       "      <td> 16</td>\n",
       "      <td> 112000</td>\n",
       "      <td> 18.53</td>\n",
       "    </tr>\n",
       "    <tr>\n",
       "      <th>102</th>\n",
       "      <td> 2000</td>\n",
       "      <td>  2</td>\n",
       "      <td> 29</td>\n",
       "      <td>  62400</td>\n",
       "      <td> 15.12</td>\n",
       "    </tr>\n",
       "    <tr>\n",
       "      <th>103</th>\n",
       "      <td> 2000</td>\n",
       "      <td> 12</td>\n",
       "      <td> 19</td>\n",
       "      <td>  80100</td>\n",
       "      <td> 16.45</td>\n",
       "    </tr>\n",
       "    <tr>\n",
       "      <th>104</th>\n",
       "      <td> 2002</td>\n",
       "      <td>  5</td>\n",
       "      <td> 15</td>\n",
       "      <td>  43400</td>\n",
       "      <td> 13.52</td>\n",
       "    </tr>\n",
       "    <tr>\n",
       "      <th>105</th>\n",
       "      <td> 2003</td>\n",
       "      <td>  3</td>\n",
       "      <td> 22</td>\n",
       "      <td>  83100</td>\n",
       "      <td> 16.66</td>\n",
       "    </tr>\n",
       "    <tr>\n",
       "      <th>106</th>\n",
       "      <td> 2004</td>\n",
       "      <td>  9</td>\n",
       "      <td> 19</td>\n",
       "      <td> 201000</td>\n",
       "      <td> 23.41</td>\n",
       "    </tr>\n",
       "    <tr>\n",
       "      <th>107</th>\n",
       "      <td> 2005</td>\n",
       "      <td>  4</td>\n",
       "      <td>  4</td>\n",
       "      <td> 242000</td>\n",
       "      <td> 25.33</td>\n",
       "    </tr>\n",
       "    <tr>\n",
       "      <th>108</th>\n",
       "      <td> 2006</td>\n",
       "      <td>  6</td>\n",
       "      <td> 29</td>\n",
       "      <td> 237000</td>\n",
       "      <td> 25.09</td>\n",
       "    </tr>\n",
       "    <tr>\n",
       "      <th>109</th>\n",
       "      <td> 2007</td>\n",
       "      <td>  4</td>\n",
       "      <td> 17</td>\n",
       "      <td> 116000</td>\n",
       "      <td> 18.82</td>\n",
       "    </tr>\n",
       "    <tr>\n",
       "      <th>110</th>\n",
       "      <td> 2008</td>\n",
       "      <td>  3</td>\n",
       "      <td> 10</td>\n",
       "      <td> 108000</td>\n",
       "      <td> 18.28</td>\n",
       "    </tr>\n",
       "    <tr>\n",
       "      <th>111</th>\n",
       "      <td> 2008</td>\n",
       "      <td> 12</td>\n",
       "      <td> 13</td>\n",
       "      <td>  90400</td>\n",
       "      <td> 17.16</td>\n",
       "    </tr>\n",
       "    <tr>\n",
       "      <th>112</th>\n",
       "      <td> 2010</td>\n",
       "      <td>  3</td>\n",
       "      <td> 15</td>\n",
       "      <td>  75900</td>\n",
       "      <td> 16.15</td>\n",
       "    </tr>\n",
       "    <tr>\n",
       "      <th>113</th>\n",
       "      <td> 2011</td>\n",
       "      <td>  9</td>\n",
       "      <td>  8</td>\n",
       "      <td> 195000</td>\n",
       "      <td> 23.11</td>\n",
       "    </tr>\n",
       "    <tr>\n",
       "      <th>114</th>\n",
       "      <td> 2012</td>\n",
       "      <td> 12</td>\n",
       "      <td> 22</td>\n",
       "      <td>  61600</td>\n",
       "      <td> 15.06</td>\n",
       "    </tr>\n",
       "    <tr>\n",
       "      <th>115</th>\n",
       "      <td> 2014</td>\n",
       "      <td>  4</td>\n",
       "      <td> 30</td>\n",
       "      <td>  80200</td>\n",
       "      <td> 16.46</td>\n",
       "    </tr>\n",
       "    <tr>\n",
       "      <th>116</th>\n",
       "      <td> 2015</td>\n",
       "      <td>  7</td>\n",
       "      <td>  2</td>\n",
       "      <td>  41500</td>\n",
       "      <td> 13.46</td>\n",
       "    </tr>\n",
       "  </tbody>\n",
       "</table>\n",
       "<p>117 rows × 5 columns</p>\n",
       "</div>"
      ],
      "text/plain": [
       "     Year  Month  Day  Discharge  Stage\n",
       "0    1897     12   16      72800    NaN\n",
       "1    1899      3    7      69200    NaN\n",
       "2    1900      3    2     104000    NaN\n",
       "3    1901      3   22      77600    NaN\n",
       "4    1902      3    2     214000  23.60\n",
       "5    1903      3    1     134000    NaN\n",
       "6    1903     10   11     295000  28.50\n",
       "7    1905      3   28      88500    NaN\n",
       "8    1906      4   16     112000    NaN\n",
       "9    1907      1   26        NaN  16.80\n",
       "10   1907     12   12        NaN  18.40\n",
       "11   1909      2   21        NaN  17.70\n",
       "12   1910      4   23        NaN  18.40\n",
       "13   1911      1    5        NaN  15.60\n",
       "14   1912      3   16        NaN  18.70\n",
       "15   1913      3   28     160000  21.10\n",
       "16   1914      3   29     143000  20.20\n",
       "17   1915      2   26      85000    NaN\n",
       "18   1916      4    3      93800  17.30\n",
       "19   1917      3   29      90600  17.00\n",
       "20   1917     10   31      89100  16.90\n",
       "21   1919      7   22      69200  15.60\n",
       "22   1920      3   14     121000  19.00\n",
       "23   1921      3   11     108000  18.20\n",
       "24   1921     11   30     105000  18.00\n",
       "25   1923      3   24      74800  16.00\n",
       "26   1924      4    8     132000  19.60\n",
       "27   1925      2   13     154000  20.80\n",
       "28   1926      4   10      48100  13.97\n",
       "29   1926     11   18     123000  19.07\n",
       "..    ...    ...  ...        ...    ...\n",
       "87   1985      9   28      87200  16.68\n",
       "88   1986      3   16     140000  20.22\n",
       "89   1987      4    6      90700  17.43\n",
       "90   1988      3   28      40600  13.37\n",
       "91   1989      5    7      83300  16.95\n",
       "92   1989     10   21      76700  16.45\n",
       "93   1990     11   12      64900  15.50\n",
       "94   1992      6    6      46800  13.98\n",
       "95   1993      4    2     109000  18.63\n",
       "96   1994      4   15      75600  16.36\n",
       "97   1995      3   10      49300  14.20\n",
       "98   1996      1   20     179000  22.20\n",
       "99   1996     12    3     101000  17.87\n",
       "100  1998      5   12      69500  15.67\n",
       "101  1999      9   16     112000  18.53\n",
       "102  2000      2   29      62400  15.12\n",
       "103  2000     12   19      80100  16.45\n",
       "104  2002      5   15      43400  13.52\n",
       "105  2003      3   22      83100  16.66\n",
       "106  2004      9   19     201000  23.41\n",
       "107  2005      4    4     242000  25.33\n",
       "108  2006      6   29     237000  25.09\n",
       "109  2007      4   17     116000  18.82\n",
       "110  2008      3   10     108000  18.28\n",
       "111  2008     12   13      90400  17.16\n",
       "112  2010      3   15      75900  16.15\n",
       "113  2011      9    8     195000  23.11\n",
       "114  2012     12   22      61600  15.06\n",
       "115  2014      4   30      80200  16.46\n",
       "116  2015      7    2      41500  13.46\n",
       "\n",
       "[117 rows x 5 columns]"
      ]
     },
     "execution_count": 5,
     "metadata": {},
     "output_type": "execute_result"
    }
   ],
   "source": [
    "obs"
   ]
  },
  {
   "cell_type": "markdown",
   "metadata": {
    "deletable": true,
    "editable": true
   },
   "source": [
    "Get the date information and convert the calendar year to water year (Oct-Apr):"
   ]
  },
  {
   "cell_type": "code",
   "execution_count": 6,
   "metadata": {
    "collapsed": false,
    "deletable": true,
    "editable": true
   },
   "outputs": [],
   "source": [
    "year = obs['Year']\n",
    "month = obs['Month']\n",
    "waterYear=[year[i]+1 if month[i]>9 else year[i] for i in range(len(year))]"
   ]
  },
  {
   "cell_type": "code",
   "execution_count": 16,
   "metadata": {
    "collapsed": false,
    "deletable": true,
    "editable": true
   },
   "outputs": [],
   "source": [
    "peak = obs['Discharge']"
   ]
  },
  {
   "cell_type": "markdown",
   "metadata": {
    "deletable": true,
    "editable": true
   },
   "source": [
    "### Plot annual peak discharge observations"
   ]
  },
  {
   "cell_type": "markdown",
   "metadata": {
    "deletable": true,
    "editable": true
   },
   "source": [
    "We will use matplotlib for basic plots."
   ]
  },
  {
   "cell_type": "code",
   "execution_count": 8,
   "metadata": {
    "collapsed": false,
    "deletable": true,
    "editable": true
   },
   "outputs": [
    {
     "data": {
      "text/plain": [
       "(0, 117)"
      ]
     },
     "execution_count": 8,
     "metadata": {},
     "output_type": "execute_result"
    },
    {
     "data": {
      "image/png": "[encoded data removed]",
      "text/plain": [
       "<matplotlib.figure.Figure at 0x11037d810>"
      ]
     },
     "metadata": {},
     "output_type": "display_data"
    }
   ],
   "source": [
    "plt.scatter(range(len(peak)), peak)\n",
    "plt.ylabel('Discharge [cfs]')\n",
    "plt.xticks(range(len(year))[::5], waterYear[::5])\n",
    "plt.xlim([0,len(peak)])"
   ]
  },
  {
   "cell_type": "markdown",
   "metadata": {
    "deletable": true,
    "editable": true
   },
   "source": [
    "## Use rpy2 to access R from within python"
   ]
  },
  {
   "cell_type": "markdown",
   "metadata": {
    "deletable": true,
    "editable": true
   },
   "source": [
    "### Convert the format from python to R"
   ]
  },
  {
   "cell_type": "code",
   "execution_count": 17,
   "metadata": {
    "collapsed": false,
    "deletable": true,
    "editable": true
   },
   "outputs": [
    {
     "data": {
      "text/plain": [
       "R object with classes: ('numeric',) mapped to:\n",
       "<FloatVector - Python:0x1141913f8 / R:0x114579a40>\n",
       "[72800.000000, 69200.000000, 104000.000000, ..., 61600.000000, 80200.000000, 41500.000000]"
      ]
     },
     "execution_count": 17,
     "metadata": {},
     "output_type": "execute_result"
    }
   ],
   "source": [
    "peak = FloatVector(peak[~np.isnan(peak)])\n",
    "r.assign('peak', peak)"
   ]
  },
  {
   "cell_type": "markdown",
   "metadata": {
    "deletable": true,
    "editable": true
   },
   "source": [
    "### Test for trend in annual peak data"
   ]
  },
  {
   "cell_type": "markdown",
   "metadata": {
    "deletable": true,
    "editable": true
   },
   "source": [
    "MannKendall test is used to detect monotonic trend based on Kendall rank correaltion. We need to import the R package `Kendall` at first."
   ]
  },
  {
   "cell_type": "code",
   "execution_count": 18,
   "metadata": {
    "collapsed": false,
    "deletable": true,
    "editable": true
   },
   "outputs": [
    {
     "name": "stdout",
     "output_type": "stream",
     "text": [
      "tau = -0.09, 2-sided pvalue =0.16254\n",
      "\n"
     ]
    }
   ],
   "source": [
    "importr('Kendall')\n",
    "print r(\"MannKendall(peak)\")"
   ]
  },
  {
   "cell_type": "markdown",
   "metadata": {
    "deletable": true,
    "editable": true
   },
   "source": [
    "### Test for change point in annual peak data"
   ]
  },
  {
   "cell_type": "markdown",
   "metadata": {
    "deletable": true,
    "editable": true
   },
   "source": [
    "We will use `strucchange` package and call its `breakpoints` function to detect the changing point."
   ]
  },
  {
   "cell_type": "code",
   "execution_count": 20,
   "metadata": {
    "collapsed": false,
    "deletable": true,
    "editable": true
   },
   "outputs": [
    {
     "name": "stdout",
     "output_type": "stream",
     "text": [
      "[1] NA\n",
      "\n"
     ]
    }
   ],
   "source": [
    "importr('strucchange')\n",
    "r(\"bp.peak <- breakpoints(peak ~ 1)\")\n",
    "print r(\"bp.peak$breakpoints\")"
   ]
  },
  {
   "cell_type": "markdown",
   "metadata": {
    "deletable": true,
    "editable": true
   },
   "source": [
    "###  Calculate the return period"
   ]
  },
  {
   "cell_type": "code",
   "execution_count": 12,
   "metadata": {
    "collapsed": true,
    "deletable": true,
    "editable": true
   },
   "outputs": [],
   "source": [
    "def calculate_return_period(EVD, rp):\n",
    "\n",
    "    \"\"\"\n",
    "    This is a function to calculate the return level of flood peaks using GEV and Gumbel\n",
    "    \n",
    "    Args:\n",
    "        :EVD (str): extreme value distribution, e.g., 'GEV' or 'Gumbel'\n",
    "        :rp (int): return period, e.g., 10, 20, 50, 100\n",
    "    \n",
    "    \"\"\"\n",
    "    \n",
    "    importr('ismev')\n",
    "    r.assign('rp', rp)\n",
    "\n",
    "    if EVD == 'GEV':\n",
    "        r(\"fit.obj <- gev.fit(peak)\")            # Maximum-likelihood fitting for the GEV distribution\n",
    "        pars = r(\"pars <- fit.obj$mle\")          # Return the GEV parameters (location, scale and shape) \n",
    "        pars_se = r(\"pars <- fit.obj$se\")        # Return the standard error of the GEV parameters\n",
    "        rl = r(\"gevq(fit.obj$mle, 1./rp)\")[0]    # Calculate the quantile of GEV distribution given the exceedence probability\n",
    "        r.pdf(file='./%s_diag.pdf' % (EVD), width=8, height=8)\n",
    "        r(\"gev.diag(fit.obj)\")                   # Produces diagnostic plots for GEV models using the output of the function gev.fit\n",
    "        r(\"dev.off()\")\n",
    "    elif EVD == 'Gumbel':\n",
    "        r(\"fit.obj <- gum.fit(peak)\")\n",
    "        pars = r(\"pars <- fit.obj$mle\")\n",
    "        pars_se = r(\"pars <- fit.obj$se\")\n",
    "        rl = r(\"gum.q(1.0/rp, pars[1], pars[2])\")[0]\n",
    "        r.pdf(file='./%s_diag.pdf' % (EVD), width=8, height=8)\n",
    "        r(\"gum.diag(fit.obj)\")\n",
    "        r(\"dev.off()\")\n",
    "\n",
    "    return rl, pars, pars_se"
   ]
  },
  {
   "cell_type": "markdown",
   "metadata": {
    "deletable": true,
    "editable": true
   },
   "source": [
    "If we want to get the **100**-year flood peak from the **GEV** distribution, we can just:"
   ]
  },
  {
   "cell_type": "code",
   "execution_count": 21,
   "metadata": {
    "collapsed": false,
    "deletable": true,
    "editable": true
   },
   "outputs": [
    {
     "name": "stdout",
     "output_type": "stream",
     "text": [
      "$conv\n",
      "[1] 0\n",
      "\n",
      "$nllh\n",
      "[1] 1336.529\n",
      "\n",
      "$mle\n",
      "[1] 8.221536e+04 3.275664e+04 1.165287e-01\n",
      "\n",
      "$se\n",
      "[1] 1.385927e+04 7.278183e+03 1.121004e-01\n",
      "\n",
      "The estimated return level using GEV distribution is 281585.56 cfs\n",
      "The estimated GEV parameters are locaton=82215.36, scale=32756.64, shape=0.12\n",
      "Standard errors corresponding to the estimated GEV parameters are locaton=13859.27, scale=7278.18, shape=0.11\n"
     ]
    }
   ],
   "source": [
    "rl_gev, pars_gev, pars_se_gev = calculate_return_period('GEV', 100)\n",
    "print \"The estimated return level using GEV distribution is %.2f cfs\" %rl_gev\n",
    "print \"The estimated GEV parameters are locaton=%.2f, scale=%.2f, shape=%.2f\" %(pars_gev[0], pars_gev[1], pars_gev[2])\n",
    "print \"Standard errors corresponding to the estimated GEV parameters are locaton=%.2f, scale=%.2f, shape=%.2f\" %(pars_se_gev[0], pars_se_gev[1], pars_se_gev[2])"
   ]
  },
  {
   "cell_type": "markdown",
   "metadata": {
    "deletable": true,
    "editable": true
   },
   "source": [
    "Similarly, if we want to get the **100**-year flood peak from the **Gumbel** distribution, we just need to change the first argument in the function:"
   ]
  },
  {
   "cell_type": "code",
   "execution_count": 22,
   "metadata": {
    "collapsed": false,
    "deletable": true,
    "editable": true
   },
   "outputs": [
    {
     "name": "stdout",
     "output_type": "stream",
     "text": [
      "$conv\n",
      "[1] 0\n",
      "\n",
      "$nllh\n",
      "[1] 1338.19\n",
      "\n",
      "$mle\n",
      "[1] 84392.28 34385.23\n",
      "\n",
      "$se\n",
      "[1] 3248.894 2652.711\n",
      "\n",
      "The estimated return level using Gumbel distribution is 15451.76 cfs\n",
      "The estimated Gumbel parameters are locaton=84392.28, scale=34385.23\n",
      "Standard errors corresponding to the estimated Gumbel parameters are locaton=3248.89, scale=2652.71\n"
     ]
    }
   ],
   "source": [
    "rl_gum, pars_gum, pars_se_gum = calculate_return_period('Gumbel', 100)\n",
    "print \"The estimated return level using Gumbel distribution is %.2f cfs\" %rl_gum\n",
    "print \"The estimated Gumbel parameters are locaton=%.2f, scale=%.2f\" %(pars_gum[0], pars_gum[1])\n",
    "print \"Standard errors corresponding to the estimated Gumbel parameters are locaton=%.2f, scale=%.2f\" %(pars_se_gum[0], pars_se_gum[1])"
   ]
  }
 ],
 "metadata": {
  "kernelspec": {
   "display_name": "Python 2",
   "language": "python",
   "name": "python2"
  },
  "language_info": {
   "codemirror_mode": {
    "name": "ipython",
    "version": 2
   },
   "file_extension": ".py",
   "mimetype": "text/x-python",
   "name": "python",
   "nbconvert_exporter": "python",
   "pygments_lexer": "ipython2",
   "version": "2.7.11"
  }
 },
 "nbformat": 4,
 "nbformat_minor": 2
}
